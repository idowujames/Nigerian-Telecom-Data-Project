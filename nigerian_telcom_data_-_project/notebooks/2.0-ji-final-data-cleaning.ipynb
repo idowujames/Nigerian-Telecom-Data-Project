{
 "cells": [
  {
   "cell_type": "code",
   "execution_count": 31,
   "metadata": {},
   "outputs": [],
   "source": [
    "import pandas as pd\n",
    "import numpy as np\n",
    "import matplotlib.pyplot as plt\n",
    "import seaborn as sns\n"
   ]
  },
  {
   "cell_type": "code",
   "execution_count": 41,
   "metadata": {},
   "outputs": [],
   "source": [
    "df = pd.read_pickle('../data/interim/1.0-ji-initial-data-cleaned.pkl')"
   ]
  },
  {
   "cell_type": "code",
   "execution_count": 42,
   "metadata": {},
   "outputs": [
    {
     "name": "stdout",
     "output_type": "stream",
     "text": [
      "<class 'pandas.core.frame.DataFrame'>\n",
      "Index: 36081 entries, 1 to 54998\n",
      "Data columns (total 15 columns):\n",
      " #   Column               Non-Null Count  Dtype         \n",
      "---  ------               --------------  -----         \n",
      " 0   Transaction ID       32466 non-null  object        \n",
      " 1   Customer ID          32503 non-null  object        \n",
      " 2   Transaction Date     32473 non-null  datetime64[ns]\n",
      " 3   Operator Name        36081 non-null  category      \n",
      " 4   Transaction Type     36081 non-null  category      \n",
      " 5   Transaction Amount   32507 non-null  float64       \n",
      " 6   Customer Age         32625 non-null  float64       \n",
      " 7   Customer Gender      32501 non-null  category      \n",
      " 8   Customer Location    32537 non-null  object        \n",
      " 9   Service Plan         36081 non-null  category      \n",
      " 10  Data Usage (MB)      32427 non-null  float64       \n",
      " 11  Call Duration (min)  32548 non-null  float64       \n",
      " 12  SMS Sent             32441 non-null  float64       \n",
      " 13  Internet Package     36081 non-null  category      \n",
      " 14  Transaction Status   36081 non-null  category      \n",
      "dtypes: category(6), datetime64[ns](1), float64(5), object(3)\n",
      "memory usage: 3.0+ MB\n",
      "None\n"
     ]
    },
    {
     "data": {
      "text/html": [
       "<div>\n",
       "<style scoped>\n",
       "    .dataframe tbody tr th:only-of-type {\n",
       "        vertical-align: middle;\n",
       "    }\n",
       "\n",
       "    .dataframe tbody tr th {\n",
       "        vertical-align: top;\n",
       "    }\n",
       "\n",
       "    .dataframe thead th {\n",
       "        text-align: right;\n",
       "    }\n",
       "</style>\n",
       "<table border=\"1\" class=\"dataframe\">\n",
       "  <thead>\n",
       "    <tr style=\"text-align: right;\">\n",
       "      <th></th>\n",
       "      <th>Transaction ID</th>\n",
       "      <th>Customer ID</th>\n",
       "      <th>Transaction Date</th>\n",
       "      <th>Operator Name</th>\n",
       "      <th>Transaction Type</th>\n",
       "      <th>Transaction Amount</th>\n",
       "      <th>Customer Age</th>\n",
       "      <th>Customer Gender</th>\n",
       "      <th>Customer Location</th>\n",
       "      <th>Service Plan</th>\n",
       "      <th>Data Usage (MB)</th>\n",
       "      <th>Call Duration (min)</th>\n",
       "      <th>SMS Sent</th>\n",
       "      <th>Internet Package</th>\n",
       "      <th>Transaction Status</th>\n",
       "    </tr>\n",
       "  </thead>\n",
       "  <tbody>\n",
       "    <tr>\n",
       "      <th>1</th>\n",
       "      <td>21ca8795-8ad9-47bc-a16b-e4654697ee52</td>\n",
       "      <td>NaN</td>\n",
       "      <td>2023-10-29 02:48:20</td>\n",
       "      <td>9mobile</td>\n",
       "      <td>Bill Payment</td>\n",
       "      <td>4804.10</td>\n",
       "      <td>39.0</td>\n",
       "      <td>other</td>\n",
       "      <td>Kaduna</td>\n",
       "      <td>Postpaid</td>\n",
       "      <td>3440.00</td>\n",
       "      <td>234.30</td>\n",
       "      <td>13.0</td>\n",
       "      <td>Weekly</td>\n",
       "      <td>Failed</td>\n",
       "    </tr>\n",
       "    <tr>\n",
       "      <th>2</th>\n",
       "      <td>ea6478bf-6a8c-4d91-bd63-b4464ebc5ae0</td>\n",
       "      <td>3052574b-ae63-4e67-8d86-5f8418ef6f66</td>\n",
       "      <td>2024-04-03 02:22:20</td>\n",
       "      <td>9mobile</td>\n",
       "      <td>Bill Payment</td>\n",
       "      <td>19303.03</td>\n",
       "      <td>NaN</td>\n",
       "      <td>male</td>\n",
       "      <td>Kaduna</td>\n",
       "      <td>Prepaid</td>\n",
       "      <td>NaN</td>\n",
       "      <td>0.90</td>\n",
       "      <td>0.0</td>\n",
       "      <td>Weekly</td>\n",
       "      <td>Completed</td>\n",
       "    </tr>\n",
       "    <tr>\n",
       "      <th>3</th>\n",
       "      <td>NaN</td>\n",
       "      <td>15ad55e7-2c9e-4a84-9b9d-9e7d7747a177</td>\n",
       "      <td>2024-02-07 00:22:30</td>\n",
       "      <td>9mobile</td>\n",
       "      <td>Bill Payment</td>\n",
       "      <td>4094.00</td>\n",
       "      <td>NaN</td>\n",
       "      <td>male</td>\n",
       "      <td>Owerri</td>\n",
       "      <td>Prepaid</td>\n",
       "      <td>2250.00</td>\n",
       "      <td>16.38</td>\n",
       "      <td>20.0</td>\n",
       "      <td>Daily</td>\n",
       "      <td>Completed</td>\n",
       "    </tr>\n",
       "    <tr>\n",
       "      <th>4</th>\n",
       "      <td>a1165572-b0f4-42e2-9890-eb16ef0b8741</td>\n",
       "      <td>a4adc3b5-2b36-4ba5-b7d9-1a103bfb247a</td>\n",
       "      <td>2008-10-31 21:12:40</td>\n",
       "      <td>Glo</td>\n",
       "      <td>Data Purchase</td>\n",
       "      <td>NaN</td>\n",
       "      <td>36.0</td>\n",
       "      <td>female</td>\n",
       "      <td>Sokoto</td>\n",
       "      <td>Prepaid</td>\n",
       "      <td>3307.97</td>\n",
       "      <td>92.61</td>\n",
       "      <td>58.0</td>\n",
       "      <td>Weekly</td>\n",
       "      <td>Failed</td>\n",
       "    </tr>\n",
       "    <tr>\n",
       "      <th>7</th>\n",
       "      <td>07c57156-2d68-433b-92c2-8839db514bc0</td>\n",
       "      <td>NaN</td>\n",
       "      <td>NaT</td>\n",
       "      <td>Glo</td>\n",
       "      <td>Data Purchase</td>\n",
       "      <td>4499.60</td>\n",
       "      <td>49.0</td>\n",
       "      <td>male</td>\n",
       "      <td>Ilorin</td>\n",
       "      <td>Prepaid</td>\n",
       "      <td>3706.69</td>\n",
       "      <td>3.42</td>\n",
       "      <td>59.0</td>\n",
       "      <td>Daily</td>\n",
       "      <td>Pending</td>\n",
       "    </tr>\n",
       "  </tbody>\n",
       "</table>\n",
       "</div>"
      ],
      "text/plain": [
       "                         Transaction ID                           Customer ID  \\\n",
       "1  21ca8795-8ad9-47bc-a16b-e4654697ee52                                   NaN   \n",
       "2  ea6478bf-6a8c-4d91-bd63-b4464ebc5ae0  3052574b-ae63-4e67-8d86-5f8418ef6f66   \n",
       "3                                   NaN  15ad55e7-2c9e-4a84-9b9d-9e7d7747a177   \n",
       "4  a1165572-b0f4-42e2-9890-eb16ef0b8741  a4adc3b5-2b36-4ba5-b7d9-1a103bfb247a   \n",
       "7  07c57156-2d68-433b-92c2-8839db514bc0                                   NaN   \n",
       "\n",
       "     Transaction Date Operator Name Transaction Type  Transaction Amount  \\\n",
       "1 2023-10-29 02:48:20       9mobile     Bill Payment             4804.10   \n",
       "2 2024-04-03 02:22:20       9mobile     Bill Payment            19303.03   \n",
       "3 2024-02-07 00:22:30       9mobile     Bill Payment             4094.00   \n",
       "4 2008-10-31 21:12:40           Glo    Data Purchase                 NaN   \n",
       "7                 NaT           Glo    Data Purchase             4499.60   \n",
       "\n",
       "   Customer Age Customer Gender Customer Location Service Plan  \\\n",
       "1          39.0           other            Kaduna     Postpaid   \n",
       "2           NaN            male            Kaduna      Prepaid   \n",
       "3           NaN            male            Owerri      Prepaid   \n",
       "4          36.0          female            Sokoto      Prepaid   \n",
       "7          49.0            male            Ilorin      Prepaid   \n",
       "\n",
       "   Data Usage (MB)  Call Duration (min)  SMS Sent Internet Package  \\\n",
       "1          3440.00               234.30      13.0           Weekly   \n",
       "2              NaN                 0.90       0.0           Weekly   \n",
       "3          2250.00                16.38      20.0            Daily   \n",
       "4          3307.97                92.61      58.0           Weekly   \n",
       "7          3706.69                 3.42      59.0            Daily   \n",
       "\n",
       "  Transaction Status  \n",
       "1             Failed  \n",
       "2          Completed  \n",
       "3          Completed  \n",
       "4             Failed  \n",
       "7            Pending  "
      ]
     },
     "execution_count": 42,
     "metadata": {},
     "output_type": "execute_result"
    }
   ],
   "source": [
    "print(df.info())\n",
    "df.head()"
   ]
  },
  {
   "cell_type": "markdown",
   "metadata": {},
   "source": [
    "**Checking for duplicates in the dataset**"
   ]
  },
  {
   "cell_type": "code",
   "execution_count": 20,
   "metadata": {},
   "outputs": [
    {
     "data": {
      "text/plain": [
       "np.int64(3272)"
      ]
     },
     "execution_count": 20,
     "metadata": {},
     "output_type": "execute_result"
    }
   ],
   "source": [
    "df.duplicated().sum()"
   ]
  },
  {
   "cell_type": "code",
   "execution_count": 21,
   "metadata": {},
   "outputs": [
    {
     "data": {
      "text/html": [
       "<div>\n",
       "<style scoped>\n",
       "    .dataframe tbody tr th:only-of-type {\n",
       "        vertical-align: middle;\n",
       "    }\n",
       "\n",
       "    .dataframe tbody tr th {\n",
       "        vertical-align: top;\n",
       "    }\n",
       "\n",
       "    .dataframe thead th {\n",
       "        text-align: right;\n",
       "    }\n",
       "</style>\n",
       "<table border=\"1\" class=\"dataframe\">\n",
       "  <thead>\n",
       "    <tr style=\"text-align: right;\">\n",
       "      <th></th>\n",
       "      <th>Transaction ID</th>\n",
       "      <th>Customer ID</th>\n",
       "      <th>Transaction Date</th>\n",
       "      <th>Operator Name</th>\n",
       "      <th>Transaction Type</th>\n",
       "      <th>Transaction Amount</th>\n",
       "      <th>Customer Age</th>\n",
       "      <th>Customer Gender</th>\n",
       "      <th>Customer Location</th>\n",
       "      <th>Service Plan</th>\n",
       "      <th>Data Usage (MB)</th>\n",
       "      <th>Call Duration (min)</th>\n",
       "      <th>SMS Sent</th>\n",
       "      <th>Internet Package</th>\n",
       "      <th>Transaction Status</th>\n",
       "    </tr>\n",
       "  </thead>\n",
       "  <tbody>\n",
       "    <tr>\n",
       "      <th>24877</th>\n",
       "      <td>4c31d765-c7e4-4b50-b3ff-11320291d8dc</td>\n",
       "      <td>07220b76-0cf5-4fab-b850-b81835fd8a37</td>\n",
       "      <td>1970-01-08 18:47:21</td>\n",
       "      <td>Airtel</td>\n",
       "      <td>Data Purchase</td>\n",
       "      <td>6877.00</td>\n",
       "      <td>64.0</td>\n",
       "      <td>female</td>\n",
       "      <td>Makurdi</td>\n",
       "      <td>Prepaid</td>\n",
       "      <td>1580.41</td>\n",
       "      <td>197.24</td>\n",
       "      <td>96.0</td>\n",
       "      <td>Monthly</td>\n",
       "      <td>Failed</td>\n",
       "    </tr>\n",
       "    <tr>\n",
       "      <th>10172</th>\n",
       "      <td>4c31d765-c7e4-4b50-b3ff-11320291d8dc</td>\n",
       "      <td>07220b76-0cf5-4fab-b850-b81835fd8a37</td>\n",
       "      <td>1970-01-08 18:47:21</td>\n",
       "      <td>Airtel</td>\n",
       "      <td>Data Purchase</td>\n",
       "      <td>6877.00</td>\n",
       "      <td>64.0</td>\n",
       "      <td>female</td>\n",
       "      <td>Makurdi</td>\n",
       "      <td>Prepaid</td>\n",
       "      <td>1580.41</td>\n",
       "      <td>197.24</td>\n",
       "      <td>96.0</td>\n",
       "      <td>Monthly</td>\n",
       "      <td>Failed</td>\n",
       "    </tr>\n",
       "    <tr>\n",
       "      <th>20352</th>\n",
       "      <td>3a934b73-e4bc-476a-8e22-36cf06972dbc</td>\n",
       "      <td>47bd1cee-56ad-4a0e-915b-0c52bfa08d88</td>\n",
       "      <td>1970-01-21 12:02:36</td>\n",
       "      <td>9mobile</td>\n",
       "      <td>Data Purchase</td>\n",
       "      <td>NaN</td>\n",
       "      <td>28.0</td>\n",
       "      <td>female</td>\n",
       "      <td>Awka</td>\n",
       "      <td>Prepaid</td>\n",
       "      <td>1169.26</td>\n",
       "      <td>222.92</td>\n",
       "      <td>31.0</td>\n",
       "      <td>Monthly</td>\n",
       "      <td>Failed</td>\n",
       "    </tr>\n",
       "    <tr>\n",
       "      <th>34114</th>\n",
       "      <td>3a934b73-e4bc-476a-8e22-36cf06972dbc</td>\n",
       "      <td>47bd1cee-56ad-4a0e-915b-0c52bfa08d88</td>\n",
       "      <td>1970-01-21 12:02:36</td>\n",
       "      <td>9mobile</td>\n",
       "      <td>Data Purchase</td>\n",
       "      <td>NaN</td>\n",
       "      <td>28.0</td>\n",
       "      <td>female</td>\n",
       "      <td>Awka</td>\n",
       "      <td>Prepaid</td>\n",
       "      <td>1169.26</td>\n",
       "      <td>222.92</td>\n",
       "      <td>31.0</td>\n",
       "      <td>Monthly</td>\n",
       "      <td>Failed</td>\n",
       "    </tr>\n",
       "    <tr>\n",
       "      <th>26818</th>\n",
       "      <td>399910a7-4d07-4910-8e1c-01a336b7c131</td>\n",
       "      <td>6895bb13-8211-4faf-9e99-c98472754f58</td>\n",
       "      <td>1970-03-15 10:36:24</td>\n",
       "      <td>9mobile</td>\n",
       "      <td>Data Purchase</td>\n",
       "      <td>16996.59</td>\n",
       "      <td>19.0</td>\n",
       "      <td>female</td>\n",
       "      <td>Aba</td>\n",
       "      <td>Postpaid</td>\n",
       "      <td>4242.63</td>\n",
       "      <td>277.34</td>\n",
       "      <td>47.0</td>\n",
       "      <td>Monthly</td>\n",
       "      <td>Failed</td>\n",
       "    </tr>\n",
       "  </tbody>\n",
       "</table>\n",
       "</div>"
      ],
      "text/plain": [
       "                             Transaction ID  \\\n",
       "24877  4c31d765-c7e4-4b50-b3ff-11320291d8dc   \n",
       "10172  4c31d765-c7e4-4b50-b3ff-11320291d8dc   \n",
       "20352  3a934b73-e4bc-476a-8e22-36cf06972dbc   \n",
       "34114  3a934b73-e4bc-476a-8e22-36cf06972dbc   \n",
       "26818  399910a7-4d07-4910-8e1c-01a336b7c131   \n",
       "\n",
       "                                Customer ID     Transaction Date  \\\n",
       "24877  07220b76-0cf5-4fab-b850-b81835fd8a37  1970-01-08 18:47:21   \n",
       "10172  07220b76-0cf5-4fab-b850-b81835fd8a37  1970-01-08 18:47:21   \n",
       "20352  47bd1cee-56ad-4a0e-915b-0c52bfa08d88  1970-01-21 12:02:36   \n",
       "34114  47bd1cee-56ad-4a0e-915b-0c52bfa08d88  1970-01-21 12:02:36   \n",
       "26818  6895bb13-8211-4faf-9e99-c98472754f58  1970-03-15 10:36:24   \n",
       "\n",
       "      Operator Name Transaction Type  Transaction Amount  Customer Age  \\\n",
       "24877        Airtel    Data Purchase             6877.00          64.0   \n",
       "10172        Airtel    Data Purchase             6877.00          64.0   \n",
       "20352       9mobile    Data Purchase                 NaN          28.0   \n",
       "34114       9mobile    Data Purchase                 NaN          28.0   \n",
       "26818       9mobile    Data Purchase            16996.59          19.0   \n",
       "\n",
       "      Customer Gender Customer Location Service Plan  Data Usage (MB)  \\\n",
       "24877          female           Makurdi      Prepaid          1580.41   \n",
       "10172          female           Makurdi      Prepaid          1580.41   \n",
       "20352          female              Awka      Prepaid          1169.26   \n",
       "34114          female              Awka      Prepaid          1169.26   \n",
       "26818          female               Aba     Postpaid          4242.63   \n",
       "\n",
       "       Call Duration (min)  SMS Sent Internet Package Transaction Status  \n",
       "24877               197.24      96.0          Monthly             Failed  \n",
       "10172               197.24      96.0          Monthly             Failed  \n",
       "20352               222.92      31.0          Monthly             Failed  \n",
       "34114               222.92      31.0          Monthly             Failed  \n",
       "26818               277.34      47.0          Monthly             Failed  "
      ]
     },
     "execution_count": 21,
     "metadata": {},
     "output_type": "execute_result"
    }
   ],
   "source": [
    "# Quick view of duplicated data\n",
    "\n",
    "df[df.duplicated(keep=False)].sort_values(by='Transaction Date').head()"
   ]
  },
  {
   "cell_type": "code",
   "execution_count": 22,
   "metadata": {},
   "outputs": [],
   "source": [
    "# Dropping duplicates\n",
    "df = df.drop_duplicates()"
   ]
  },
  {
   "cell_type": "code",
   "execution_count": 23,
   "metadata": {},
   "outputs": [
    {
     "data": {
      "text/plain": [
       "(32809, 15)"
      ]
     },
     "execution_count": 23,
     "metadata": {},
     "output_type": "execute_result"
    }
   ],
   "source": [
    "df.shape"
   ]
  },
  {
   "cell_type": "markdown",
   "metadata": {},
   "source": [
    "**Dropping unncessary columns**"
   ]
  },
  {
   "cell_type": "markdown",
   "metadata": {},
   "source": [
    "The Transaction ID and Customer ID Columns do not appear to be valuable for future analytics so we can drop them"
   ]
  },
  {
   "cell_type": "code",
   "execution_count": 24,
   "metadata": {},
   "outputs": [
    {
     "data": {
      "text/plain": [
       "Transaction ID    29524\n",
       "Customer ID       29536\n",
       "dtype: int64"
      ]
     },
     "execution_count": 24,
     "metadata": {},
     "output_type": "execute_result"
    }
   ],
   "source": [
    "df[['Transaction ID','Customer ID']].nunique()"
   ]
  },
  {
   "cell_type": "code",
   "execution_count": 25,
   "metadata": {},
   "outputs": [],
   "source": [
    "df = df.drop(columns=['Transaction ID','Customer ID'])"
   ]
  },
  {
   "cell_type": "markdown",
   "metadata": {},
   "source": [
    "**Dealing with missing values**"
   ]
  },
  {
   "cell_type": "code",
   "execution_count": 26,
   "metadata": {},
   "outputs": [
    {
     "data": {
      "text/plain": [
       "Transaction Date       3321\n",
       "Operator Name             0\n",
       "Transaction Type          0\n",
       "Transaction Amount     3249\n",
       "Customer Age           3134\n",
       "Customer Gender        3259\n",
       "Customer Location      3247\n",
       "Service Plan              0\n",
       "Data Usage (MB)        3310\n",
       "Call Duration (min)    3231\n",
       "SMS Sent               3305\n",
       "Internet Package          0\n",
       "Transaction Status        0\n",
       "dtype: int64"
      ]
     },
     "execution_count": 26,
     "metadata": {},
     "output_type": "execute_result"
    }
   ],
   "source": [
    "df.isna().sum()"
   ]
  },
  {
   "cell_type": "markdown",
   "metadata": {},
   "source": [
    "The question here wether to perform some imputation method for the missing values or just to drop them. I would rather much prefer to drop them since we will still have a substantial dataset after dropping them because performing some data imputation method means we are creating our own data which is not commensurate with the real data."
   ]
  },
  {
   "cell_type": "code",
   "execution_count": 27,
   "metadata": {},
   "outputs": [],
   "source": [
    "df = df.dropna()"
   ]
  },
  {
   "cell_type": "code",
   "execution_count": 28,
   "metadata": {},
   "outputs": [
    {
     "data": {
      "text/plain": [
       "(14133, 13)"
      ]
     },
     "execution_count": 28,
     "metadata": {},
     "output_type": "execute_result"
    }
   ],
   "source": [
    "df.shape"
   ]
  },
  {
   "cell_type": "markdown",
   "metadata": {},
   "source": [
    "**Getting an overview of the statistical spread of the dataset**"
   ]
  },
  {
   "cell_type": "code",
   "execution_count": 29,
   "metadata": {},
   "outputs": [
    {
     "data": {
      "text/html": [
       "<div>\n",
       "<style scoped>\n",
       "    .dataframe tbody tr th:only-of-type {\n",
       "        vertical-align: middle;\n",
       "    }\n",
       "\n",
       "    .dataframe tbody tr th {\n",
       "        vertical-align: top;\n",
       "    }\n",
       "\n",
       "    .dataframe thead th {\n",
       "        text-align: right;\n",
       "    }\n",
       "</style>\n",
       "<table border=\"1\" class=\"dataframe\">\n",
       "  <thead>\n",
       "    <tr style=\"text-align: right;\">\n",
       "      <th></th>\n",
       "      <th>Transaction Amount</th>\n",
       "      <th>Customer Age</th>\n",
       "      <th>Data Usage (MB)</th>\n",
       "      <th>Call Duration (min)</th>\n",
       "      <th>SMS Sent</th>\n",
       "    </tr>\n",
       "  </thead>\n",
       "  <tbody>\n",
       "    <tr>\n",
       "      <th>count</th>\n",
       "      <td>14133.000000</td>\n",
       "      <td>14133.000000</td>\n",
       "      <td>14133.000000</td>\n",
       "      <td>14133.000000</td>\n",
       "      <td>14133.000000</td>\n",
       "    </tr>\n",
       "    <tr>\n",
       "      <th>mean</th>\n",
       "      <td>9998.714838</td>\n",
       "      <td>44.039624</td>\n",
       "      <td>2491.107208</td>\n",
       "      <td>149.450257</td>\n",
       "      <td>49.406495</td>\n",
       "    </tr>\n",
       "    <tr>\n",
       "      <th>std</th>\n",
       "      <td>5735.762858</td>\n",
       "      <td>15.277015</td>\n",
       "      <td>1450.120789</td>\n",
       "      <td>86.418473</td>\n",
       "      <td>29.049537</td>\n",
       "    </tr>\n",
       "    <tr>\n",
       "      <th>min</th>\n",
       "      <td>101.030000</td>\n",
       "      <td>18.000000</td>\n",
       "      <td>0.000000</td>\n",
       "      <td>0.000000</td>\n",
       "      <td>0.000000</td>\n",
       "    </tr>\n",
       "    <tr>\n",
       "      <th>25%</th>\n",
       "      <td>5014.550000</td>\n",
       "      <td>31.000000</td>\n",
       "      <td>1222.660000</td>\n",
       "      <td>75.000000</td>\n",
       "      <td>24.000000</td>\n",
       "    </tr>\n",
       "    <tr>\n",
       "      <th>50%</th>\n",
       "      <td>9997.500000</td>\n",
       "      <td>44.000000</td>\n",
       "      <td>2478.160000</td>\n",
       "      <td>148.860000</td>\n",
       "      <td>49.000000</td>\n",
       "    </tr>\n",
       "    <tr>\n",
       "      <th>75%</th>\n",
       "      <td>14927.730000</td>\n",
       "      <td>57.000000</td>\n",
       "      <td>3754.000000</td>\n",
       "      <td>224.770000</td>\n",
       "      <td>74.000000</td>\n",
       "    </tr>\n",
       "    <tr>\n",
       "      <th>max</th>\n",
       "      <td>19998.600000</td>\n",
       "      <td>70.000000</td>\n",
       "      <td>5000.000000</td>\n",
       "      <td>300.000000</td>\n",
       "      <td>100.000000</td>\n",
       "    </tr>\n",
       "  </tbody>\n",
       "</table>\n",
       "</div>"
      ],
      "text/plain": [
       "       Transaction Amount  Customer Age  Data Usage (MB)  Call Duration (min)  \\\n",
       "count        14133.000000  14133.000000     14133.000000         14133.000000   \n",
       "mean          9998.714838     44.039624      2491.107208           149.450257   \n",
       "std           5735.762858     15.277015      1450.120789            86.418473   \n",
       "min            101.030000     18.000000         0.000000             0.000000   \n",
       "25%           5014.550000     31.000000      1222.660000            75.000000   \n",
       "50%           9997.500000     44.000000      2478.160000           148.860000   \n",
       "75%          14927.730000     57.000000      3754.000000           224.770000   \n",
       "max          19998.600000     70.000000      5000.000000           300.000000   \n",
       "\n",
       "           SMS Sent  \n",
       "count  14133.000000  \n",
       "mean      49.406495  \n",
       "std       29.049537  \n",
       "min        0.000000  \n",
       "25%       24.000000  \n",
       "50%       49.000000  \n",
       "75%       74.000000  \n",
       "max      100.000000  "
      ]
     },
     "execution_count": 29,
     "metadata": {},
     "output_type": "execute_result"
    }
   ],
   "source": [
    "df.describe()"
   ]
  },
  {
   "cell_type": "code",
   "execution_count": 30,
   "metadata": {},
   "outputs": [
    {
     "data": {
      "text/html": [
       "<div>\n",
       "<style scoped>\n",
       "    .dataframe tbody tr th:only-of-type {\n",
       "        vertical-align: middle;\n",
       "    }\n",
       "\n",
       "    .dataframe tbody tr th {\n",
       "        vertical-align: top;\n",
       "    }\n",
       "\n",
       "    .dataframe thead th {\n",
       "        text-align: right;\n",
       "    }\n",
       "</style>\n",
       "<table border=\"1\" class=\"dataframe\">\n",
       "  <thead>\n",
       "    <tr style=\"text-align: right;\">\n",
       "      <th></th>\n",
       "    </tr>\n",
       "  </thead>\n",
       "  <tbody>\n",
       "    <tr>\n",
       "      <th>0</th>\n",
       "    </tr>\n",
       "    <tr>\n",
       "      <th>5</th>\n",
       "    </tr>\n",
       "    <tr>\n",
       "      <th>6</th>\n",
       "    </tr>\n",
       "    <tr>\n",
       "      <th>9</th>\n",
       "    </tr>\n",
       "    <tr>\n",
       "      <th>13</th>\n",
       "    </tr>\n",
       "    <tr>\n",
       "      <th>...</th>\n",
       "    </tr>\n",
       "    <tr>\n",
       "      <th>36072</th>\n",
       "    </tr>\n",
       "    <tr>\n",
       "      <th>36075</th>\n",
       "    </tr>\n",
       "    <tr>\n",
       "      <th>36076</th>\n",
       "    </tr>\n",
       "    <tr>\n",
       "      <th>36077</th>\n",
       "    </tr>\n",
       "    <tr>\n",
       "      <th>36078</th>\n",
       "    </tr>\n",
       "  </tbody>\n",
       "</table>\n",
       "<p>14133 rows × 0 columns</p>\n",
       "</div>"
      ],
      "text/plain": [
       "Empty DataFrame\n",
       "Columns: []\n",
       "Index: [0, 5, 6, 9, 13, 14, 16, 17, 19, 20, 23, 24, 25, 29, 32, 35, 36, 40, 46, 47, 48, 53, 55, 56, 58, 60, 66, 67, 72, 73, 76, 77, 82, 83, 84, 88, 89, 95, 102, 104, 106, 107, 109, 113, 116, 119, 121, 124, 131, 136, 137, 138, 140, 141, 143, 145, 149, 153, 161, 162, 166, 168, 173, 175, 176, 179, 182, 186, 188, 190, 191, 192, 194, 199, 200, 201, 203, 210, 211, 214, 215, 220, 221, 223, 224, 225, 231, 232, 234, 235, 236, 238, 239, 243, 249, 250, 255, 261, 262, 266, ...]\n",
       "\n",
       "[14133 rows x 0 columns]"
      ]
     },
     "execution_count": 30,
     "metadata": {},
     "output_type": "execute_result"
    }
   ],
   "source": [
    "df.select_dtypes('category')"
   ]
  }
 ],
 "metadata": {
  "kernelspec": {
   "display_name": "Python 3",
   "language": "python",
   "name": "python3"
  },
  "language_info": {
   "codemirror_mode": {
    "name": "ipython",
    "version": 3
   },
   "file_extension": ".py",
   "mimetype": "text/x-python",
   "name": "python",
   "nbconvert_exporter": "python",
   "pygments_lexer": "ipython3",
   "version": "3.10.13"
  }
 },
 "nbformat": 4,
 "nbformat_minor": 2
}
