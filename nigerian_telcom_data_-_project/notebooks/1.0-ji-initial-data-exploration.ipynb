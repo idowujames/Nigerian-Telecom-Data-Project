{
 "cells": [
  {
   "cell_type": "code",
   "execution_count": 1,
   "metadata": {},
   "outputs": [],
   "source": [
    "import pandas as pd\n",
    "import matplotlib.pyplot as plt\n",
    "import seaborn as sns\n",
    "\n",
    "import matplotlib as mpl\n",
    "\n",
    "mpl.style.use(\"seaborn-v0_8-deep\")\n",
    "mpl.rcParams[\"figure.figsize\"] = (14, 5)\n",
    "mpl.rcParams[\"figure.dpi\"] = 100"
   ]
  },
  {
   "cell_type": "markdown",
   "metadata": {},
   "source": [
    "### Loading the datafile for cleaning and quick view"
   ]
  },
  {
   "cell_type": "code",
   "execution_count": 2,
   "metadata": {},
   "outputs": [
    {
     "name": "stdout",
     "output_type": "stream",
     "text": [
      "<class 'pandas.core.frame.DataFrame'>\n",
      "RangeIndex: 55000 entries, 0 to 54999\n",
      "Data columns (total 15 columns):\n",
      " #   Column               Non-Null Count  Dtype  \n",
      "---  ------               --------------  -----  \n",
      " 0   Transaction ID       49431 non-null  object \n",
      " 1   Customer ID          49515 non-null  object \n",
      " 2   Transaction Date     49445 non-null  object \n",
      " 3   Operator Name        55000 non-null  object \n",
      " 4   Transaction Type     55000 non-null  object \n",
      " 5   Transaction Amount   49566 non-null  object \n",
      " 6   Customer Age         49602 non-null  float64\n",
      " 7   Customer Gender      49534 non-null  object \n",
      " 8   Customer Location    49584 non-null  object \n",
      " 9   Service Plan         55000 non-null  object \n",
      " 10  Data Usage (MB)      49533 non-null  object \n",
      " 11  Call Duration (min)  49587 non-null  object \n",
      " 12  SMS Sent             49467 non-null  float64\n",
      " 13  Internet Package     55000 non-null  object \n",
      " 14  Transaction Status   55000 non-null  object \n",
      "dtypes: float64(2), object(13)\n",
      "memory usage: 6.3+ MB\n",
      "None\n"
     ]
    },
    {
     "data": {
      "text/html": [
       "<div>\n",
       "<style scoped>\n",
       "    .dataframe tbody tr th:only-of-type {\n",
       "        vertical-align: middle;\n",
       "    }\n",
       "\n",
       "    .dataframe tbody tr th {\n",
       "        vertical-align: top;\n",
       "    }\n",
       "\n",
       "    .dataframe thead th {\n",
       "        text-align: right;\n",
       "    }\n",
       "</style>\n",
       "<table border=\"1\" class=\"dataframe\">\n",
       "  <thead>\n",
       "    <tr style=\"text-align: right;\">\n",
       "      <th></th>\n",
       "      <th>Transaction ID</th>\n",
       "      <th>Customer ID</th>\n",
       "      <th>Transaction Date</th>\n",
       "      <th>Operator Name</th>\n",
       "      <th>Transaction Type</th>\n",
       "      <th>Transaction Amount</th>\n",
       "      <th>Customer Age</th>\n",
       "      <th>Customer Gender</th>\n",
       "      <th>Customer Location</th>\n",
       "      <th>Service Plan</th>\n",
       "      <th>Data Usage (MB)</th>\n",
       "      <th>Call Duration (min)</th>\n",
       "      <th>SMS Sent</th>\n",
       "      <th>Internet Package</th>\n",
       "      <th>Transaction Status</th>\n",
       "    </tr>\n",
       "  </thead>\n",
       "  <tbody>\n",
       "    <tr>\n",
       "      <th>0</th>\n",
       "      <td>66d1c0da-4597-4458-b4db-b2e94fe9c69f</td>\n",
       "      <td>f5754858-fe7d-4cc9-a1ff-80ce6d64ca90</td>\n",
       "      <td>NaN</td>\n",
       "      <td>Airtel</td>\n",
       "      <td>Ar1tel</td>\n",
       "      <td>NaN</td>\n",
       "      <td>27.0</td>\n",
       "      <td>NaN</td>\n",
       "      <td>Minna</td>\n",
       "      <td>Postpaid</td>\n",
       "      <td>4826.08</td>\n",
       "      <td>214.72</td>\n",
       "      <td>51.0</td>\n",
       "      <td>Daily</td>\n",
       "      <td>Pending</td>\n",
       "    </tr>\n",
       "    <tr>\n",
       "      <th>1</th>\n",
       "      <td>21ca8795-8ad9-47bc-a16b-e4654697ee52</td>\n",
       "      <td>NaN</td>\n",
       "      <td>2023-10-29T02:48:20.227058</td>\n",
       "      <td>9mobile</td>\n",
       "      <td>Bill Payment</td>\n",
       "      <td>4804.1</td>\n",
       "      <td>39.0</td>\n",
       "      <td>Other</td>\n",
       "      <td>Kaduna</td>\n",
       "      <td>Postpaid</td>\n",
       "      <td>3440</td>\n",
       "      <td>234.3</td>\n",
       "      <td>13.0</td>\n",
       "      <td>Weekly</td>\n",
       "      <td>Failed</td>\n",
       "    </tr>\n",
       "    <tr>\n",
       "      <th>2</th>\n",
       "      <td>ea6478bf-6a8c-4d91-bd63-b4464ebc5ae0</td>\n",
       "      <td>3052574b-ae63-4e67-8d86-5f8418ef6f66</td>\n",
       "      <td>2024-04-03T02:22:20.359918</td>\n",
       "      <td>9mobile</td>\n",
       "      <td>Bill Payment</td>\n",
       "      <td>19303.03</td>\n",
       "      <td>NaN</td>\n",
       "      <td>male</td>\n",
       "      <td>Kaduna</td>\n",
       "      <td>Prepaid</td>\n",
       "      <td>NaN</td>\n",
       "      <td>0.9</td>\n",
       "      <td>0.0</td>\n",
       "      <td>Weekly</td>\n",
       "      <td>Completed</td>\n",
       "    </tr>\n",
       "    <tr>\n",
       "      <th>3</th>\n",
       "      <td>NaN</td>\n",
       "      <td>15ad55e7-2c9e-4a84-9b9d-9e7d7747a177</td>\n",
       "      <td>2024-02-07T00:22:30.827156</td>\n",
       "      <td>9mobil3</td>\n",
       "      <td>Bill Payment</td>\n",
       "      <td>4094</td>\n",
       "      <td>NaN</td>\n",
       "      <td>Male</td>\n",
       "      <td>Owerri</td>\n",
       "      <td>Prepaid</td>\n",
       "      <td>2250.0</td>\n",
       "      <td>$16.38</td>\n",
       "      <td>20.0</td>\n",
       "      <td>Daily</td>\n",
       "      <td>Completed</td>\n",
       "    </tr>\n",
       "    <tr>\n",
       "      <th>4</th>\n",
       "      <td>a1165572-b0f4-42e2-9890-eb16ef0b8741</td>\n",
       "      <td>a4adc3b5-2b36-4ba5-b7d9-1a103bfb247a</td>\n",
       "      <td>2008-10-31 21:12:40</td>\n",
       "      <td>Glo</td>\n",
       "      <td>Data Purchase</td>\n",
       "      <td>NaN</td>\n",
       "      <td>36.0</td>\n",
       "      <td>female</td>\n",
       "      <td>Sokoto</td>\n",
       "      <td>Prepaid</td>\n",
       "      <td>3307.97</td>\n",
       "      <td>$92.61</td>\n",
       "      <td>58.0</td>\n",
       "      <td>Weekly</td>\n",
       "      <td>Failed</td>\n",
       "    </tr>\n",
       "  </tbody>\n",
       "</table>\n",
       "</div>"
      ],
      "text/plain": [
       "                         Transaction ID                           Customer ID  \\\n",
       "0  66d1c0da-4597-4458-b4db-b2e94fe9c69f  f5754858-fe7d-4cc9-a1ff-80ce6d64ca90   \n",
       "1  21ca8795-8ad9-47bc-a16b-e4654697ee52                                   NaN   \n",
       "2  ea6478bf-6a8c-4d91-bd63-b4464ebc5ae0  3052574b-ae63-4e67-8d86-5f8418ef6f66   \n",
       "3                                   NaN  15ad55e7-2c9e-4a84-9b9d-9e7d7747a177   \n",
       "4  a1165572-b0f4-42e2-9890-eb16ef0b8741  a4adc3b5-2b36-4ba5-b7d9-1a103bfb247a   \n",
       "\n",
       "             Transaction Date Operator Name Transaction Type  \\\n",
       "0                         NaN        Airtel           Ar1tel   \n",
       "1  2023-10-29T02:48:20.227058       9mobile     Bill Payment   \n",
       "2  2024-04-03T02:22:20.359918       9mobile     Bill Payment   \n",
       "3  2024-02-07T00:22:30.827156       9mobil3     Bill Payment   \n",
       "4         2008-10-31 21:12:40           Glo    Data Purchase   \n",
       "\n",
       "  Transaction Amount  Customer Age Customer Gender Customer Location  \\\n",
       "0                NaN          27.0             NaN             Minna   \n",
       "1             4804.1          39.0           Other            Kaduna   \n",
       "2           19303.03           NaN            male            Kaduna   \n",
       "3               4094           NaN            Male            Owerri   \n",
       "4                NaN          36.0          female            Sokoto   \n",
       "\n",
       "  Service Plan Data Usage (MB) Call Duration (min)  SMS Sent Internet Package  \\\n",
       "0     Postpaid         4826.08              214.72      51.0            Daily   \n",
       "1     Postpaid            3440               234.3      13.0           Weekly   \n",
       "2      Prepaid             NaN                 0.9       0.0           Weekly   \n",
       "3      Prepaid          2250.0              $16.38      20.0            Daily   \n",
       "4      Prepaid         3307.97              $92.61      58.0           Weekly   \n",
       "\n",
       "  Transaction Status  \n",
       "0            Pending  \n",
       "1             Failed  \n",
       "2          Completed  \n",
       "3          Completed  \n",
       "4             Failed  "
      ]
     },
     "execution_count": 2,
     "metadata": {},
     "output_type": "execute_result"
    }
   ],
   "source": [
    "data = pd.read_csv('../data/raw/nigeria_telecom_transactions_messy_actual_cities.csv')\n",
    "\n",
    "print(data.info())\n",
    "data.head()"
   ]
  },
  {
   "cell_type": "code",
   "execution_count": 3,
   "metadata": {},
   "outputs": [],
   "source": [
    "# Copying the data to a new dataframe so as to have what to compare the data to after cleaning\n",
    "df = data.copy()"
   ]
  },
  {
   "cell_type": "markdown",
   "metadata": {},
   "source": [
    "### Checking each Feature for errors in entry and fixing the datatype if need be"
   ]
  },
  {
   "cell_type": "markdown",
   "metadata": {},
   "source": [
    "**Reusable Number of Missing Values Function**"
   ]
  },
  {
   "cell_type": "code",
   "execution_count": 4,
   "metadata": {},
   "outputs": [],
   "source": [
    "def missing_values(column_name):\n",
    "    \"\"\"\n",
    "    This function calculates and returns the number of missing values present in a specified column of the DataFrame.\n",
    "    \"\"\"\n",
    "    return (f\"Number of Missing values in the {column_name} column: {df[column_name].isnull().sum()}\")"
   ]
  },
  {
   "cell_type": "code",
   "execution_count": 5,
   "metadata": {},
   "outputs": [
    {
     "data": {
      "text/plain": [
       "Transaction ID         10.125455\n",
       "Customer ID             9.972727\n",
       "Transaction Date       10.100000\n",
       "Operator Name           0.000000\n",
       "Transaction Type        0.000000\n",
       "Transaction Amount      9.880000\n",
       "Customer Age            9.814545\n",
       "Customer Gender         9.938182\n",
       "Customer Location       9.847273\n",
       "Service Plan            0.000000\n",
       "Data Usage (MB)         9.940000\n",
       "Call Duration (min)     9.841818\n",
       "SMS Sent               10.060000\n",
       "Internet Package        0.000000\n",
       "Transaction Status      0.000000\n",
       "dtype: float64"
      ]
     },
     "execution_count": 5,
     "metadata": {},
     "output_type": "execute_result"
    }
   ],
   "source": [
    "# Getting the percentage of the missing values by column\n",
    "df.isna().mean() * 100"
   ]
  },
  {
   "cell_type": "markdown",
   "metadata": {},
   "source": [
    "It appears there are missing values in about 10 columns but compared to the size of the dataset the missing data is only about 10% of the entire dataset.\n",
    "The decision to eithr remove the missing values or impute them would be made later. "
   ]
  },
  {
   "cell_type": "markdown",
   "metadata": {},
   "source": [
    "**Transaction Date Column**"
   ]
  },
  {
   "cell_type": "code",
   "execution_count": 6,
   "metadata": {},
   "outputs": [
    {
     "data": {
      "text/plain": [
       "4880     2023-11-29T16:11:05.949852\n",
       "54128    2024-06-05T02:33:47.219608\n",
       "49062    2023-08-09T12:10:21.829799\n",
       "46696                           NaN\n",
       "28017           1979-06-19 17:07:40\n",
       "45040    2023-11-11T17:01:07.354470\n",
       "10919    2023-11-04T05:27:44.526531\n",
       "10813                           NaN\n",
       "Name: Transaction Date, dtype: object"
      ]
     },
     "execution_count": 6,
     "metadata": {},
     "output_type": "execute_result"
    }
   ],
   "source": [
    "# Getting an understanding of the types of values in the column\n",
    "df['Transaction Date'].sample(8)"
   ]
  },
  {
   "cell_type": "code",
   "execution_count": 7,
   "metadata": {},
   "outputs": [],
   "source": [
    "# Converting the Transaction Date column to datetime and removing the nano-seconds from it\n",
    "df['Transaction Date'] = (\n",
    "                            pd.to_datetime\n",
    "                            (\n",
    "                                df['Transaction Date']\n",
    "                                .str.replace('T', ' ', regex=False)\n",
    "                                .str.split('.')\n",
    "                                .str[0]\n",
    "                                )\n",
    "                        )\n"
   ]
  },
  {
   "cell_type": "code",
   "execution_count": 8,
   "metadata": {},
   "outputs": [
    {
     "data": {
      "text/plain": [
       "33642   2023-08-29 14:27:00\n",
       "9870    2024-03-09 04:58:48\n",
       "37984   2024-04-27 22:13:48\n",
       "27655   2023-10-14 01:05:28\n",
       "28518   2024-06-27 23:53:44\n",
       "Name: Transaction Date, dtype: datetime64[ns]"
      ]
     },
     "execution_count": 8,
     "metadata": {},
     "output_type": "execute_result"
    }
   ],
   "source": [
    "df['Transaction Date'].sample(5)"
   ]
  },
  {
   "cell_type": "code",
   "execution_count": 9,
   "metadata": {},
   "outputs": [],
   "source": [
    "# Confirming that the number of null values in 'Transaction Date' is equal to df['Transaction Date'] after convertion\n",
    "num_nulls_original = data['Transaction Date'].isnull().sum()\n",
    "num_nulls_modified = df['Transaction Date'].isnull().sum()\n",
    "assert num_nulls_original == num_nulls_modified, \"The number of null values in 'Transaction Date' must be the same before and after modifications.\"\n",
    "\n",
    "# Confirming that all the values follow the same format\n",
    "assert (df['Transaction Date'].dropna().dt.strftime('%Y-%m-%d %H:%M:%S') == df['Transaction Date'].dropna()).all(), \"Not all non-NaT dates follow the '%Y-%m-%d %H:%M:%S' format\""
   ]
  },
  {
   "cell_type": "markdown",
   "metadata": {},
   "source": [
    "**Operator Name Column**"
   ]
  },
  {
   "cell_type": "markdown",
   "metadata": {},
   "source": [
    "- Getting the types of values in the column"
   ]
  },
  {
   "cell_type": "code",
   "execution_count": 10,
   "metadata": {},
   "outputs": [
    {
     "data": {
      "text/plain": [
       "Operator Name\n",
       "MTN        12560\n",
       "Airtel     12340\n",
       "9mobile    12322\n",
       "Glo        12284\n",
       "Ar1tel      1413\n",
       "G1o         1397\n",
       "9mobil3     1387\n",
       "MNT         1297\n",
       "Name: count, dtype: int64"
      ]
     },
     "execution_count": 10,
     "metadata": {},
     "output_type": "execute_result"
    }
   ],
   "source": [
    "# Getting the types of values in the column\n",
    "df['Operator Name'].value_counts()"
   ]
  },
  {
   "cell_type": "markdown",
   "metadata": {},
   "source": [
    "- Correcting the spelling errors"
   ]
  },
  {
   "cell_type": "code",
   "execution_count": 26,
   "metadata": {},
   "outputs": [],
   "source": [
    "correction_map = {\n",
    "    'Ar1tel': 'Airtel',\n",
    "    'G1o': 'Glo',\n",
    "    '9mobil3': '9mobile',\n",
    "    'MNT': 'MTN'\n",
    "}\n",
    "\n",
    "# Apply the corrections\n",
    "df['Operator Name'] = df['Operator Name'].replace(correction_map).astype('category')"
   ]
  },
  {
   "cell_type": "code",
   "execution_count": 12,
   "metadata": {},
   "outputs": [
    {
     "data": {
      "text/plain": [
       "Operator Name\n",
       "MTN        13857\n",
       "Airtel     13753\n",
       "9mobile    13709\n",
       "Glo        13681\n",
       "Name: count, dtype: int64"
      ]
     },
     "execution_count": 12,
     "metadata": {},
     "output_type": "execute_result"
    }
   ],
   "source": [
    "df['Operator Name'].value_counts()"
   ]
  },
  {
   "cell_type": "markdown",
   "metadata": {},
   "source": [
    "**Transaction Type Column**"
   ]
  },
  {
   "cell_type": "code",
   "execution_count": 13,
   "metadata": {},
   "outputs": [
    {
     "data": {
      "text/plain": [
       "Transaction Type\n",
       "Bill Payment        16548\n",
       "Airtime Purchase    16536\n",
       "Data Purchase       16455\n",
       "9mobil3              1430\n",
       "Ar1tel               1345\n",
       "G1o                  1343\n",
       "MNT                  1343\n",
       "Name: count, dtype: int64"
      ]
     },
     "execution_count": 13,
     "metadata": {},
     "output_type": "execute_result"
    }
   ],
   "source": [
    "# Getting the types of values in the column\n",
    "df['Transaction Type'].value_counts()"
   ]
  },
  {
   "cell_type": "markdown",
   "metadata": {},
   "source": [
    "it seems there' an error in entry where operators names where included as collection type.\n",
    "We would have to remove these rows(entries) since there's now way to know how to map them to actual transaction types"
   ]
  },
  {
   "cell_type": "code",
   "execution_count": 14,
   "metadata": {},
   "outputs": [],
   "source": [
    "# Filtering out the rows with the wrong transaction type\n",
    "df = df[~df['Transaction Type'].isin(['9mobil3', 'Ar1tel', 'G1o', 'MNT'])]\n",
    "df['Transaction Type'] = df['Transaction Type'].astype('category')"
   ]
  },
  {
   "cell_type": "markdown",
   "metadata": {},
   "source": [
    "**Transaction Amount**"
   ]
  },
  {
   "cell_type": "code",
   "execution_count": 15,
   "metadata": {},
   "outputs": [
    {
     "data": {
      "text/plain": [
       "17620      9568.73\n",
       "30216          NaN\n",
       "49965        19082\n",
       "1365      17262.78\n",
       "32586     12896.46\n",
       "51554      11639.0\n",
       "25582     $1485.46\n",
       "6361        5955.8\n",
       "45500    $12668.23\n",
       "42334       9061.6\n",
       "Name: Transaction Amount, dtype: object"
      ]
     },
     "execution_count": 15,
     "metadata": {},
     "output_type": "execute_result"
    }
   ],
   "source": [
    "# Checking to see the values in the column\n",
    "df['Transaction Amount'].sample(10)"
   ]
  },
  {
   "cell_type": "markdown",
   "metadata": {},
   "source": [
    "We can see that some of the entries have $ signs in front and possibly whitespaces.\n",
    "So we have to deal with those first before converting the column to float"
   ]
  },
  {
   "cell_type": "code",
   "execution_count": 16,
   "metadata": {},
   "outputs": [],
   "source": [
    "df['Transaction Amount'] =(\n",
    "                            df['Transaction Amount']\n",
    "                            .str.strip()\n",
    "                            .str.replace('$','')\n",
    "                            .astype('float')\n",
    "                        )"
   ]
  },
  {
   "cell_type": "code",
   "execution_count": 17,
   "metadata": {},
   "outputs": [],
   "source": [
    "# Making sure we did not create more missing values when cleaning the column\n",
    "assert (df['Transaction Amount'].isna().sum()) == 4867 , 'There are more missing values than expected'"
   ]
  },
  {
   "cell_type": "markdown",
   "metadata": {},
   "source": [
    "**Customer Age**"
   ]
  },
  {
   "cell_type": "code",
   "execution_count": 18,
   "metadata": {},
   "outputs": [
    {
     "data": {
      "text/plain": [
       "11652    68.0\n",
       "35801    28.0\n",
       "5253     18.0\n",
       "17829    46.0\n",
       "38426    26.0\n",
       "20837    33.0\n",
       "36630    46.0\n",
       "9126     35.0\n",
       "24900    33.0\n",
       "41719    30.0\n",
       "Name: Customer Age, dtype: float64"
      ]
     },
     "execution_count": 18,
     "metadata": {},
     "output_type": "execute_result"
    }
   ],
   "source": [
    "# Checking the values in the column\n",
    "df['Customer Age'].sample(10)"
   ]
  },
  {
   "cell_type": "code",
   "execution_count": 19,
   "metadata": {},
   "outputs": [
    {
     "data": {
      "text/plain": [
       "count    44705.000000\n",
       "mean        44.062141\n",
       "std         15.297023\n",
       "min         18.000000\n",
       "25%         31.000000\n",
       "50%         44.000000\n",
       "75%         57.000000\n",
       "max         70.000000\n",
       "Name: Customer Age, dtype: float64"
      ]
     },
     "execution_count": 19,
     "metadata": {},
     "output_type": "execute_result"
    }
   ],
   "source": [
    "# Checking if their are outliers that might be errors\n",
    "df['Customer Age'].describe()"
   ]
  },
  {
   "cell_type": "markdown",
   "metadata": {},
   "source": [
    "The Min, Max and Mean age are well within expected ranges so it appears there's no outlier or errors in age entry"
   ]
  },
  {
   "cell_type": "markdown",
   "metadata": {},
   "source": [
    "**Customer Gender**"
   ]
  },
  {
   "cell_type": "code",
   "execution_count": 20,
   "metadata": {},
   "outputs": [
    {
     "data": {
      "text/plain": [
       "Customer Gender\n",
       "male      8979\n",
       "Female    8978\n",
       "Other     8965\n",
       "female    8867\n",
       "Male      8812\n",
       "Name: count, dtype: int64"
      ]
     },
     "execution_count": 20,
     "metadata": {},
     "output_type": "execute_result"
    }
   ],
   "source": [
    "# Understanding the types of values in the column\n",
    "df['Customer Gender'].value_counts()"
   ]
  },
  {
   "cell_type": "markdown",
   "metadata": {},
   "source": [
    "It appears that there are spelling inconsistencies with the gender column and also a gender type \"Other\". The \"Other\" type are probably people who didn't want to indicate their gender so we will leave as is and only correct the spelling inconsistency."
   ]
  },
  {
   "cell_type": "code",
   "execution_count": 24,
   "metadata": {},
   "outputs": [],
   "source": [
    "gender_map = {\n",
    "    'Male': 'male',\n",
    "    'Female':'female',\n",
    "    'Other': 'other'\n",
    "}\n",
    "df['Customer Gender'] = df['Customer Gender'].replace(gender_map, regex=False).astype('category')"
   ]
  },
  {
   "cell_type": "markdown",
   "metadata": {},
   "source": [
    "**Customer Location**"
   ]
  },
  {
   "cell_type": "code",
   "execution_count": 29,
   "metadata": {},
   "outputs": [
    {
     "data": {
      "text/plain": [
       "array(['Kaduna', 'Owerri', 'Sokoto', 'Jos', 'Ilorin', 'Kano', nan,\n",
       "       'Gombe', 'Lagos', 'Onitsha', 'Minna', 'Calabar', 'Abeokuta', 'Uyo',\n",
       "       'Asaba', 'Maiduguri', 'Makurdi', 'Warri', 'Oyo', 'Awka', 'Jalingo',\n",
       "       'Aba', 'Port Harcourt', 'Enugu', 'Akure', 'Osogbo', 'Benin City',\n",
       "       'Bauchi', 'Abuja', 'Zaria', 'Ibadan'], dtype=object)"
      ]
     },
     "execution_count": 29,
     "metadata": {},
     "output_type": "execute_result"
    }
   ],
   "source": [
    "# checking all the state names to see if there are any spelling mistakes or unusal state names\n",
    "df['Customer Location'].unique()"
   ]
  },
  {
   "cell_type": "markdown",
   "metadata": {},
   "source": [
    "It seems there are no errors in the customer location column apart from having missing data which would be taking care of later along with the other columns with missing data "
   ]
  },
  {
   "cell_type": "markdown",
   "metadata": {},
   "source": [
    "**Service Plan**"
   ]
  },
  {
   "cell_type": "code",
   "execution_count": 31,
   "metadata": {},
   "outputs": [
    {
     "data": {
      "text/plain": [
       "Service Plan\n",
       "Prepaid     22335\n",
       "Postpaid    22285\n",
       "G1o          1310\n",
       "9mobil3      1233\n",
       "Ar1tel       1199\n",
       "MNT          1177\n",
       "Name: count, dtype: int64"
      ]
     },
     "execution_count": 31,
     "metadata": {},
     "output_type": "execute_result"
    }
   ],
   "source": [
    "df['Service Plan'].value_counts()"
   ]
  },
  {
   "cell_type": "markdown",
   "metadata": {},
   "source": [
    "Just like the Transaction Type column, it seems there are errors in entry where operators names where included as service plan column.\n",
    "We would have to remove these rows(entries) since there's now way to know how to map them to actual service plans"
   ]
  },
  {
   "cell_type": "code",
   "execution_count": 38,
   "metadata": {},
   "outputs": [],
   "source": [
    "# Filter out rows where 'Service Plan' matches any of the excluded plans\n",
    "df = df[~df['Service Plan'].isin (['G1o','9mobil3','Ar1tel','MNT'])]\n",
    "\n",
    "# Convert 'Service Plan' to category type for efficiency\n",
    "df['Service Plan'] = df['Service Plan'].astype('category')"
   ]
  },
  {
   "cell_type": "markdown",
   "metadata": {},
   "source": [
    "**Data Usage (MB)**"
   ]
  },
  {
   "cell_type": "markdown",
   "metadata": {},
   "source": [
    "Index(['Transaction ID', 'Customer ID', 'Transaction Date', 'Operator Name',\n",
    "       'Transaction Type', 'Transaction Amount', 'Customer Age',\n",
    "       'Customer Gender', 'Customer Location', 'Service Plan',\n",
    "       'Data Usage (MB)', 'Call Duration (min)', 'SMS Sent',\n",
    "       'Internet Package', 'Transaction Status'],\n",
    "      dtype='object')"
   ]
  }
 ],
 "metadata": {
  "kernelspec": {
   "display_name": "Python 3",
   "language": "python",
   "name": "python3"
  },
  "language_info": {
   "codemirror_mode": {
    "name": "ipython",
    "version": 3
   },
   "file_extension": ".py",
   "mimetype": "text/x-python",
   "name": "python",
   "nbconvert_exporter": "python",
   "pygments_lexer": "ipython3",
   "version": "3.10.13"
  }
 },
 "nbformat": 4,
 "nbformat_minor": 2
}
