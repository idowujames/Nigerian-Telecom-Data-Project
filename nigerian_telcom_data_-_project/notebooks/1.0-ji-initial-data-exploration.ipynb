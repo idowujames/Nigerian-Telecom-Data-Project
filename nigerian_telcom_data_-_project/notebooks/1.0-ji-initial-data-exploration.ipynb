{
 "cells": [
  {
   "cell_type": "code",
   "execution_count": 107,
   "metadata": {},
   "outputs": [],
   "source": [
    "import pandas as pd\n",
    "import matplotlib.pyplot as plt\n",
    "import seaborn as sns\n",
    "\n",
    "import matplotlib as mpl\n",
    "\n",
    "mpl.style.use(\"seaborn-v0_8-deep\")\n",
    "mpl.rcParams[\"figure.figsize\"] = (14, 5)\n",
    "mpl.rcParams[\"figure.dpi\"] = 100"
   ]
  },
  {
   "cell_type": "markdown",
   "metadata": {},
   "source": [
    "### Loading the datafile for cleaning and quick view"
   ]
  },
  {
   "cell_type": "code",
   "execution_count": 108,
   "metadata": {},
   "outputs": [
    {
     "name": "stdout",
     "output_type": "stream",
     "text": [
      "<class 'pandas.core.frame.DataFrame'>\n",
      "RangeIndex: 55000 entries, 0 to 54999\n",
      "Data columns (total 15 columns):\n",
      " #   Column               Non-Null Count  Dtype  \n",
      "---  ------               --------------  -----  \n",
      " 0   Transaction ID       49431 non-null  object \n",
      " 1   Customer ID          49515 non-null  object \n",
      " 2   Transaction Date     49445 non-null  object \n",
      " 3   Operator Name        55000 non-null  object \n",
      " 4   Transaction Type     55000 non-null  object \n",
      " 5   Transaction Amount   49566 non-null  object \n",
      " 6   Customer Age         49602 non-null  float64\n",
      " 7   Customer Gender      49534 non-null  object \n",
      " 8   Customer Location    49584 non-null  object \n",
      " 9   Service Plan         55000 non-null  object \n",
      " 10  Data Usage (MB)      49533 non-null  object \n",
      " 11  Call Duration (min)  49587 non-null  object \n",
      " 12  SMS Sent             49467 non-null  float64\n",
      " 13  Internet Package     55000 non-null  object \n",
      " 14  Transaction Status   55000 non-null  object \n",
      "dtypes: float64(2), object(13)\n",
      "memory usage: 6.3+ MB\n",
      "None\n"
     ]
    },
    {
     "data": {
      "text/html": [
       "<div>\n",
       "<style scoped>\n",
       "    .dataframe tbody tr th:only-of-type {\n",
       "        vertical-align: middle;\n",
       "    }\n",
       "\n",
       "    .dataframe tbody tr th {\n",
       "        vertical-align: top;\n",
       "    }\n",
       "\n",
       "    .dataframe thead th {\n",
       "        text-align: right;\n",
       "    }\n",
       "</style>\n",
       "<table border=\"1\" class=\"dataframe\">\n",
       "  <thead>\n",
       "    <tr style=\"text-align: right;\">\n",
       "      <th></th>\n",
       "      <th>Transaction ID</th>\n",
       "      <th>Customer ID</th>\n",
       "      <th>Transaction Date</th>\n",
       "      <th>Operator Name</th>\n",
       "      <th>Transaction Type</th>\n",
       "      <th>Transaction Amount</th>\n",
       "      <th>Customer Age</th>\n",
       "      <th>Customer Gender</th>\n",
       "      <th>Customer Location</th>\n",
       "      <th>Service Plan</th>\n",
       "      <th>Data Usage (MB)</th>\n",
       "      <th>Call Duration (min)</th>\n",
       "      <th>SMS Sent</th>\n",
       "      <th>Internet Package</th>\n",
       "      <th>Transaction Status</th>\n",
       "    </tr>\n",
       "  </thead>\n",
       "  <tbody>\n",
       "    <tr>\n",
       "      <th>0</th>\n",
       "      <td>66d1c0da-4597-4458-b4db-b2e94fe9c69f</td>\n",
       "      <td>f5754858-fe7d-4cc9-a1ff-80ce6d64ca90</td>\n",
       "      <td>NaN</td>\n",
       "      <td>Airtel</td>\n",
       "      <td>Ar1tel</td>\n",
       "      <td>NaN</td>\n",
       "      <td>27.0</td>\n",
       "      <td>NaN</td>\n",
       "      <td>Minna</td>\n",
       "      <td>Postpaid</td>\n",
       "      <td>4826.08</td>\n",
       "      <td>214.72</td>\n",
       "      <td>51.0</td>\n",
       "      <td>Daily</td>\n",
       "      <td>Pending</td>\n",
       "    </tr>\n",
       "    <tr>\n",
       "      <th>1</th>\n",
       "      <td>21ca8795-8ad9-47bc-a16b-e4654697ee52</td>\n",
       "      <td>NaN</td>\n",
       "      <td>2023-10-29T02:48:20.227058</td>\n",
       "      <td>9mobile</td>\n",
       "      <td>Bill Payment</td>\n",
       "      <td>4804.1</td>\n",
       "      <td>39.0</td>\n",
       "      <td>Other</td>\n",
       "      <td>Kaduna</td>\n",
       "      <td>Postpaid</td>\n",
       "      <td>3440</td>\n",
       "      <td>234.3</td>\n",
       "      <td>13.0</td>\n",
       "      <td>Weekly</td>\n",
       "      <td>Failed</td>\n",
       "    </tr>\n",
       "    <tr>\n",
       "      <th>2</th>\n",
       "      <td>ea6478bf-6a8c-4d91-bd63-b4464ebc5ae0</td>\n",
       "      <td>3052574b-ae63-4e67-8d86-5f8418ef6f66</td>\n",
       "      <td>2024-04-03T02:22:20.359918</td>\n",
       "      <td>9mobile</td>\n",
       "      <td>Bill Payment</td>\n",
       "      <td>19303.03</td>\n",
       "      <td>NaN</td>\n",
       "      <td>male</td>\n",
       "      <td>Kaduna</td>\n",
       "      <td>Prepaid</td>\n",
       "      <td>NaN</td>\n",
       "      <td>0.9</td>\n",
       "      <td>0.0</td>\n",
       "      <td>Weekly</td>\n",
       "      <td>Completed</td>\n",
       "    </tr>\n",
       "    <tr>\n",
       "      <th>3</th>\n",
       "      <td>NaN</td>\n",
       "      <td>15ad55e7-2c9e-4a84-9b9d-9e7d7747a177</td>\n",
       "      <td>2024-02-07T00:22:30.827156</td>\n",
       "      <td>9mobil3</td>\n",
       "      <td>Bill Payment</td>\n",
       "      <td>4094</td>\n",
       "      <td>NaN</td>\n",
       "      <td>Male</td>\n",
       "      <td>Owerri</td>\n",
       "      <td>Prepaid</td>\n",
       "      <td>2250.0</td>\n",
       "      <td>$16.38</td>\n",
       "      <td>20.0</td>\n",
       "      <td>Daily</td>\n",
       "      <td>Completed</td>\n",
       "    </tr>\n",
       "    <tr>\n",
       "      <th>4</th>\n",
       "      <td>a1165572-b0f4-42e2-9890-eb16ef0b8741</td>\n",
       "      <td>a4adc3b5-2b36-4ba5-b7d9-1a103bfb247a</td>\n",
       "      <td>2008-10-31 21:12:40</td>\n",
       "      <td>Glo</td>\n",
       "      <td>Data Purchase</td>\n",
       "      <td>NaN</td>\n",
       "      <td>36.0</td>\n",
       "      <td>female</td>\n",
       "      <td>Sokoto</td>\n",
       "      <td>Prepaid</td>\n",
       "      <td>3307.97</td>\n",
       "      <td>$92.61</td>\n",
       "      <td>58.0</td>\n",
       "      <td>Weekly</td>\n",
       "      <td>Failed</td>\n",
       "    </tr>\n",
       "  </tbody>\n",
       "</table>\n",
       "</div>"
      ],
      "text/plain": [
       "                         Transaction ID                           Customer ID  \\\n",
       "0  66d1c0da-4597-4458-b4db-b2e94fe9c69f  f5754858-fe7d-4cc9-a1ff-80ce6d64ca90   \n",
       "1  21ca8795-8ad9-47bc-a16b-e4654697ee52                                   NaN   \n",
       "2  ea6478bf-6a8c-4d91-bd63-b4464ebc5ae0  3052574b-ae63-4e67-8d86-5f8418ef6f66   \n",
       "3                                   NaN  15ad55e7-2c9e-4a84-9b9d-9e7d7747a177   \n",
       "4  a1165572-b0f4-42e2-9890-eb16ef0b8741  a4adc3b5-2b36-4ba5-b7d9-1a103bfb247a   \n",
       "\n",
       "             Transaction Date Operator Name Transaction Type  \\\n",
       "0                         NaN        Airtel           Ar1tel   \n",
       "1  2023-10-29T02:48:20.227058       9mobile     Bill Payment   \n",
       "2  2024-04-03T02:22:20.359918       9mobile     Bill Payment   \n",
       "3  2024-02-07T00:22:30.827156       9mobil3     Bill Payment   \n",
       "4         2008-10-31 21:12:40           Glo    Data Purchase   \n",
       "\n",
       "  Transaction Amount  Customer Age Customer Gender Customer Location  \\\n",
       "0                NaN          27.0             NaN             Minna   \n",
       "1             4804.1          39.0           Other            Kaduna   \n",
       "2           19303.03           NaN            male            Kaduna   \n",
       "3               4094           NaN            Male            Owerri   \n",
       "4                NaN          36.0          female            Sokoto   \n",
       "\n",
       "  Service Plan Data Usage (MB) Call Duration (min)  SMS Sent Internet Package  \\\n",
       "0     Postpaid         4826.08              214.72      51.0            Daily   \n",
       "1     Postpaid            3440               234.3      13.0           Weekly   \n",
       "2      Prepaid             NaN                 0.9       0.0           Weekly   \n",
       "3      Prepaid          2250.0              $16.38      20.0            Daily   \n",
       "4      Prepaid         3307.97              $92.61      58.0           Weekly   \n",
       "\n",
       "  Transaction Status  \n",
       "0            Pending  \n",
       "1             Failed  \n",
       "2          Completed  \n",
       "3          Completed  \n",
       "4             Failed  "
      ]
     },
     "execution_count": 108,
     "metadata": {},
     "output_type": "execute_result"
    }
   ],
   "source": [
    "data = pd.read_csv('../data/raw/nigeria_telecom_transactions_messy_actual_cities.csv')\n",
    "\n",
    "print(data.info())\n",
    "data.head()"
   ]
  },
  {
   "cell_type": "code",
   "execution_count": 109,
   "metadata": {},
   "outputs": [],
   "source": [
    "# Copying the data to a new dataframe so as to have what to compare the data to after cleaning\n",
    "df = data.copy()"
   ]
  },
  {
   "cell_type": "markdown",
   "metadata": {},
   "source": [
    "### Checking each Feature for errors in entry and fixing the datatype if need be"
   ]
  },
  {
   "cell_type": "markdown",
   "metadata": {},
   "source": [
    "**Reusable Number of Missing Values Function**"
   ]
  },
  {
   "cell_type": "code",
   "execution_count": 110,
   "metadata": {},
   "outputs": [],
   "source": [
    "def missing_values(column_name):\n",
    "    \"\"\"\n",
    "    This function calculates and returns the number of missing values present in a specified column of the DataFrame.\n",
    "    \"\"\"\n",
    "    return (f\"Number of Missing values in the {column_name} column: {df[column_name].isnull().sum()}\")"
   ]
  },
  {
   "cell_type": "code",
   "execution_count": 111,
   "metadata": {},
   "outputs": [
    {
     "data": {
      "text/plain": [
       "Transaction ID         10.125455\n",
       "Customer ID             9.972727\n",
       "Transaction Date       10.100000\n",
       "Operator Name           0.000000\n",
       "Transaction Type        0.000000\n",
       "Transaction Amount      9.880000\n",
       "Customer Age            9.814545\n",
       "Customer Gender         9.938182\n",
       "Customer Location       9.847273\n",
       "Service Plan            0.000000\n",
       "Data Usage (MB)         9.940000\n",
       "Call Duration (min)     9.841818\n",
       "SMS Sent               10.060000\n",
       "Internet Package        0.000000\n",
       "Transaction Status      0.000000\n",
       "dtype: float64"
      ]
     },
     "execution_count": 111,
     "metadata": {},
     "output_type": "execute_result"
    }
   ],
   "source": [
    "# Getting the percentage of the missing values by column\n",
    "df.isna().mean() * 100"
   ]
  },
  {
   "cell_type": "markdown",
   "metadata": {},
   "source": [
    "It appears there are missing values in about 10 columns but compared to the size of the dataset the missing data is only about 10% of the entire dataset.\n",
    "The decision to eithr remove the missing values or impute them would be made later. "
   ]
  },
  {
   "cell_type": "markdown",
   "metadata": {},
   "source": [
    "**Transaction Date Column**"
   ]
  },
  {
   "cell_type": "code",
   "execution_count": 112,
   "metadata": {},
   "outputs": [
    {
     "data": {
      "text/plain": [
       "9470     2024-06-06T10:36:43.898202\n",
       "11590    2024-07-05T16:51:07.515301\n",
       "14798           2018-03-07 05:51:53\n",
       "52271    2023-08-13T22:58:10.611027\n",
       "49992    2023-11-09T00:48:05.699163\n",
       "47496    2024-02-14T01:31:40.074229\n",
       "30888    2024-02-08T00:25:21.090153\n",
       "25178    2023-09-19T13:12:31.854188\n",
       "Name: Transaction Date, dtype: object"
      ]
     },
     "execution_count": 112,
     "metadata": {},
     "output_type": "execute_result"
    }
   ],
   "source": [
    "# Getting an understanding of the types of values in the column\n",
    "df['Transaction Date'].sample(8)"
   ]
  },
  {
   "cell_type": "code",
   "execution_count": 113,
   "metadata": {},
   "outputs": [],
   "source": [
    "# Converting the Transaction Date column to datetime and removing the nano-seconds from it\n",
    "df['Transaction Date'] = (\n",
    "                            pd.to_datetime\n",
    "                            (\n",
    "                                df['Transaction Date']\n",
    "                                .str.replace('T', ' ', regex=False)\n",
    "                                .str.split('.')\n",
    "                                .str[0]\n",
    "                                )\n",
    "                        )\n"
   ]
  },
  {
   "cell_type": "code",
   "execution_count": 114,
   "metadata": {},
   "outputs": [
    {
     "data": {
      "text/plain": [
       "9998    2024-03-07 21:38:38\n",
       "49263   2024-06-19 22:56:33\n",
       "47570   2024-05-08 02:10:03\n",
       "51009                   NaT\n",
       "29625   2023-12-15 23:36:12\n",
       "Name: Transaction Date, dtype: datetime64[ns]"
      ]
     },
     "execution_count": 114,
     "metadata": {},
     "output_type": "execute_result"
    }
   ],
   "source": [
    "df['Transaction Date'].sample(5)"
   ]
  },
  {
   "cell_type": "code",
   "execution_count": 115,
   "metadata": {},
   "outputs": [],
   "source": [
    "# Confirming that the number of null values in 'Transaction Date' is equal to df['Transaction Date'] after convertion\n",
    "num_nulls_original = data['Transaction Date'].isnull().sum()\n",
    "num_nulls_modified = df['Transaction Date'].isnull().sum()\n",
    "assert num_nulls_original == num_nulls_modified, \"The number of null values in 'Transaction Date' must be the same before and after modifications.\"\n",
    "\n",
    "# Confirming that all the values follow the same format\n",
    "assert (df['Transaction Date'].dropna().dt.strftime('%Y-%m-%d %H:%M:%S') == df['Transaction Date'].dropna()).all(), \"Not all non-NaT dates follow the '%Y-%m-%d %H:%M:%S' format\""
   ]
  },
  {
   "cell_type": "markdown",
   "metadata": {},
   "source": [
    "**Operator Name Column**"
   ]
  },
  {
   "cell_type": "markdown",
   "metadata": {},
   "source": [
    "- Getting the types of values in the column"
   ]
  },
  {
   "cell_type": "code",
   "execution_count": 116,
   "metadata": {},
   "outputs": [
    {
     "data": {
      "text/plain": [
       "Operator Name\n",
       "MTN        12560\n",
       "Airtel     12340\n",
       "9mobile    12322\n",
       "Glo        12284\n",
       "Ar1tel      1413\n",
       "G1o         1397\n",
       "9mobil3     1387\n",
       "MNT         1297\n",
       "Name: count, dtype: int64"
      ]
     },
     "execution_count": 116,
     "metadata": {},
     "output_type": "execute_result"
    }
   ],
   "source": [
    "# Getting the types of values in the column\n",
    "df['Operator Name'].value_counts()"
   ]
  },
  {
   "cell_type": "markdown",
   "metadata": {},
   "source": [
    "- Correcting the spelling errors"
   ]
  },
  {
   "cell_type": "code",
   "execution_count": 117,
   "metadata": {},
   "outputs": [],
   "source": [
    "correction_map = {\n",
    "    'Ar1tel': 'Airtel',\n",
    "    'G1o': 'Glo',\n",
    "    '9mobil3': '9mobile',\n",
    "    'MNT': 'MTN'\n",
    "}\n",
    "\n",
    "# Apply the corrections\n",
    "df['Operator Name'] = df['Operator Name'].replace(correction_map).astype('category')"
   ]
  },
  {
   "cell_type": "code",
   "execution_count": 118,
   "metadata": {},
   "outputs": [
    {
     "data": {
      "text/plain": [
       "Operator Name\n",
       "MTN        13857\n",
       "Airtel     13753\n",
       "9mobile    13709\n",
       "Glo        13681\n",
       "Name: count, dtype: int64"
      ]
     },
     "execution_count": 118,
     "metadata": {},
     "output_type": "execute_result"
    }
   ],
   "source": [
    "df['Operator Name'].value_counts()"
   ]
  },
  {
   "cell_type": "markdown",
   "metadata": {},
   "source": [
    "**Transaction Type Column**"
   ]
  },
  {
   "cell_type": "code",
   "execution_count": 119,
   "metadata": {},
   "outputs": [
    {
     "data": {
      "text/plain": [
       "Transaction Type\n",
       "Bill Payment        16548\n",
       "Airtime Purchase    16536\n",
       "Data Purchase       16455\n",
       "9mobil3              1430\n",
       "Ar1tel               1345\n",
       "G1o                  1343\n",
       "MNT                  1343\n",
       "Name: count, dtype: int64"
      ]
     },
     "execution_count": 119,
     "metadata": {},
     "output_type": "execute_result"
    }
   ],
   "source": [
    "# Getting the types of values in the column\n",
    "df['Transaction Type'].value_counts()"
   ]
  },
  {
   "cell_type": "markdown",
   "metadata": {},
   "source": [
    "it seems there' an error in entry where operators names where included as collection type.\n",
    "We would have to remove these rows(entries) since there's now way to know how to map them to actual transaction types"
   ]
  },
  {
   "cell_type": "code",
   "execution_count": 120,
   "metadata": {},
   "outputs": [],
   "source": [
    "# Filtering out the rows with the wrong transaction type\n",
    "df = df[~df['Transaction Type'].isin(['9mobil3', 'Ar1tel', 'G1o', 'MNT'])]\n",
    "df['Transaction Type'] = df['Transaction Type'].astype('category')"
   ]
  },
  {
   "cell_type": "markdown",
   "metadata": {},
   "source": [
    "**Transaction Amount**"
   ]
  },
  {
   "cell_type": "code",
   "execution_count": 121,
   "metadata": {},
   "outputs": [
    {
     "data": {
      "text/plain": [
       "28732     11795.55\n",
       "50467     $7324.03\n",
       "901            NaN\n",
       "27023    $15522.33\n",
       "36951          NaN\n",
       "18312     17187.72\n",
       "19683       6902.6\n",
       "40701    $18976.97\n",
       "9258        8260.2\n",
       "41394      10736.5\n",
       "Name: Transaction Amount, dtype: object"
      ]
     },
     "execution_count": 121,
     "metadata": {},
     "output_type": "execute_result"
    }
   ],
   "source": [
    "# Checking to see the values in the column\n",
    "df['Transaction Amount'].sample(10)"
   ]
  },
  {
   "cell_type": "markdown",
   "metadata": {},
   "source": [
    "We can see that some of the entries have $ signs in front and possibly whitespaces.\n",
    "So we have to deal with those first before converting the column to float"
   ]
  },
  {
   "cell_type": "code",
   "execution_count": 122,
   "metadata": {},
   "outputs": [],
   "source": [
    "df['Transaction Amount'] =(\n",
    "                            df['Transaction Amount']\n",
    "                            .str.strip()\n",
    "                            .str.replace('$','')\n",
    "                            .astype('float')\n",
    "                        )"
   ]
  },
  {
   "cell_type": "code",
   "execution_count": 123,
   "metadata": {},
   "outputs": [],
   "source": [
    "# Making sure we did not create more missing values when cleaning the column\n",
    "assert (df['Transaction Amount'].isna().sum()) == 4867 , 'There are more missing values than expected'"
   ]
  },
  {
   "cell_type": "markdown",
   "metadata": {},
   "source": [
    "**Customer Age**"
   ]
  },
  {
   "cell_type": "code",
   "execution_count": 124,
   "metadata": {},
   "outputs": [
    {
     "data": {
      "text/plain": [
       "17628    33.0\n",
       "557      55.0\n",
       "35904    44.0\n",
       "21020    25.0\n",
       "36927    44.0\n",
       "48971    36.0\n",
       "33774    37.0\n",
       "6897     32.0\n",
       "25871    39.0\n",
       "8328     70.0\n",
       "Name: Customer Age, dtype: float64"
      ]
     },
     "execution_count": 124,
     "metadata": {},
     "output_type": "execute_result"
    }
   ],
   "source": [
    "# Checking the values in the column\n",
    "df['Customer Age'].sample(10)"
   ]
  },
  {
   "cell_type": "code",
   "execution_count": 125,
   "metadata": {},
   "outputs": [
    {
     "data": {
      "text/plain": [
       "count    44705.000000\n",
       "mean        44.062141\n",
       "std         15.297023\n",
       "min         18.000000\n",
       "25%         31.000000\n",
       "50%         44.000000\n",
       "75%         57.000000\n",
       "max         70.000000\n",
       "Name: Customer Age, dtype: float64"
      ]
     },
     "execution_count": 125,
     "metadata": {},
     "output_type": "execute_result"
    }
   ],
   "source": [
    "# Checking if their are outliers that might be errors\n",
    "df['Customer Age'].describe()"
   ]
  },
  {
   "cell_type": "markdown",
   "metadata": {},
   "source": [
    "The Min, Max and Mean age are well within expected ranges so it appears there's no outlier or errors in age entry"
   ]
  },
  {
   "cell_type": "markdown",
   "metadata": {},
   "source": [
    "**Customer Gender**"
   ]
  },
  {
   "cell_type": "code",
   "execution_count": 126,
   "metadata": {},
   "outputs": [
    {
     "data": {
      "text/plain": [
       "Customer Gender\n",
       "male      8979\n",
       "Female    8978\n",
       "Other     8965\n",
       "female    8867\n",
       "Male      8812\n",
       "Name: count, dtype: int64"
      ]
     },
     "execution_count": 126,
     "metadata": {},
     "output_type": "execute_result"
    }
   ],
   "source": [
    "# Understanding the types of values in the column\n",
    "df['Customer Gender'].value_counts()"
   ]
  },
  {
   "cell_type": "markdown",
   "metadata": {},
   "source": [
    "It appears that there are spelling inconsistencies with the gender column and also a gender type \"Other\". The \"Other\" type are probably people who didn't want to indicate their gender so we will leave as is and only correct the spelling inconsistency."
   ]
  },
  {
   "cell_type": "code",
   "execution_count": 127,
   "metadata": {},
   "outputs": [],
   "source": [
    "gender_map = {\n",
    "    'Male': 'male',\n",
    "    'Female':'female',\n",
    "    'Other': 'other'\n",
    "}\n",
    "df['Customer Gender'] = df['Customer Gender'].replace(gender_map, regex=False).astype('category')"
   ]
  },
  {
   "cell_type": "markdown",
   "metadata": {},
   "source": [
    "**Customer Location**"
   ]
  },
  {
   "cell_type": "code",
   "execution_count": 128,
   "metadata": {},
   "outputs": [
    {
     "data": {
      "text/plain": [
       "array(['Kaduna', 'Owerri', 'Sokoto', 'Jos', 'Ilorin', 'Kano', nan,\n",
       "       'Gombe', 'Lagos', 'Onitsha', 'Minna', 'Calabar', 'Abeokuta', 'Uyo',\n",
       "       'Asaba', 'Maiduguri', 'Makurdi', 'Warri', 'Oyo', 'Awka', 'Jalingo',\n",
       "       'Aba', 'Port Harcourt', 'Enugu', 'Akure', 'Osogbo', 'Benin City',\n",
       "       'Bauchi', 'Abuja', 'Zaria', 'Ibadan'], dtype=object)"
      ]
     },
     "execution_count": 128,
     "metadata": {},
     "output_type": "execute_result"
    }
   ],
   "source": [
    "# checking all the state names to see if there are any spelling mistakes or unusal state names\n",
    "df['Customer Location'].unique()"
   ]
  },
  {
   "cell_type": "markdown",
   "metadata": {},
   "source": [
    "It seems there are no errors in the customer location column apart from having missing data which would be taking care of later along with the other columns with missing data "
   ]
  },
  {
   "cell_type": "markdown",
   "metadata": {},
   "source": [
    "**Service Plan**"
   ]
  },
  {
   "cell_type": "code",
   "execution_count": 129,
   "metadata": {},
   "outputs": [
    {
     "data": {
      "text/plain": [
       "Service Plan\n",
       "Prepaid     22335\n",
       "Postpaid    22285\n",
       "G1o          1310\n",
       "9mobil3      1233\n",
       "Ar1tel       1199\n",
       "MNT          1177\n",
       "Name: count, dtype: int64"
      ]
     },
     "execution_count": 129,
     "metadata": {},
     "output_type": "execute_result"
    }
   ],
   "source": [
    "df['Service Plan'].value_counts()"
   ]
  },
  {
   "cell_type": "markdown",
   "metadata": {},
   "source": [
    "Just like the Transaction Type column, it seems there are errors in entry where operators names where included as service plan column.\n",
    "We would have to remove these rows(entries) since there's now way to know how to map them to actual service plans"
   ]
  },
  {
   "cell_type": "code",
   "execution_count": 130,
   "metadata": {},
   "outputs": [],
   "source": [
    "# Filter out rows where 'Service Plan' matches any of the excluded plans\n",
    "df = df[~df['Service Plan'].isin (['G1o','9mobil3','Ar1tel','MNT'])]\n",
    "\n",
    "# Convert 'Service Plan' to category type for efficiency\n",
    "df['Service Plan'] = df['Service Plan'].astype('category')"
   ]
  },
  {
   "cell_type": "markdown",
   "metadata": {},
   "source": [
    "**Data Usage (MB)**"
   ]
  },
  {
   "cell_type": "code",
   "execution_count": 131,
   "metadata": {},
   "outputs": [
    {
     "data": {
      "text/plain": [
       "9368      2169.65\n",
       "47091     $411.78\n",
       "32440        1044\n",
       "14544       535.9\n",
       "24630    $3233.28\n",
       "46882      1735.6\n",
       "31865     1161.89\n",
       "29662      1144.9\n",
       "492        501.61\n",
       "36185     4763.64\n",
       "25204      993.14\n",
       "44605        1694\n",
       "40463     2623.38\n",
       "23531        2675\n",
       "30329      3897.1\n",
       "Name: Data Usage (MB), dtype: object"
      ]
     },
     "execution_count": 131,
     "metadata": {},
     "output_type": "execute_result"
    }
   ],
   "source": [
    "# Viewing how the data looks like\n",
    "df['Data Usage (MB)'].sample(15)"
   ]
  },
  {
   "cell_type": "markdown",
   "metadata": {},
   "source": [
    "As can be viewed above some of the values have a dollar sign before them. Next step is to remove these dollar signs and convert the column to a float datatype."
   ]
  },
  {
   "cell_type": "code",
   "execution_count": 132,
   "metadata": {},
   "outputs": [
    {
     "data": {
      "text/plain": [
       "np.int64(4540)"
      ]
     },
     "execution_count": 132,
     "metadata": {},
     "output_type": "execute_result"
    }
   ],
   "source": [
    "# Getting the amount of nan values in the column before cleaning and conversion\n",
    "# This helps in making sure that there are not some edge values we are not aware of.\n",
    "# Because if we have more nan after conversion, \n",
    "# then that means there are edge values we are not aware of that were converted to nan\n",
    "\n",
    "df['Data Usage (MB)'].isna().sum()"
   ]
  },
  {
   "cell_type": "code",
   "execution_count": 133,
   "metadata": {},
   "outputs": [],
   "source": [
    "df['Data Usage (MB)'] = (\n",
    "                            df['Data Usage (MB)']\n",
    "                            .str.replace('$','', regex=False)\n",
    "                            .astype('float')\n",
    "                        )"
   ]
  },
  {
   "cell_type": "code",
   "execution_count": 134,
   "metadata": {},
   "outputs": [],
   "source": [
    "assert (df['Data Usage (MB)'].isna().sum() == 4540), 'The column has more missing values than expected'"
   ]
  },
  {
   "cell_type": "markdown",
   "metadata": {},
   "source": [
    "**Call Duration (min)**"
   ]
  },
  {
   "cell_type": "code",
   "execution_count": 135,
   "metadata": {},
   "outputs": [
    {
     "data": {
      "text/plain": [
       "30044      37.65\n",
       "44966         15\n",
       "18264      25.88\n",
       "17234      74.28\n",
       "6931         235\n",
       "44566    $148.39\n",
       "17413        NaN\n",
       "10132      275.9\n",
       "30578    $292.42\n",
       "23019       17.7\n",
       "25415      135.5\n",
       "25722        NaN\n",
       "40063      225.6\n",
       "23071      150.8\n",
       "47660     $39.74\n",
       "Name: Call Duration (min), dtype: object"
      ]
     },
     "execution_count": 135,
     "metadata": {},
     "output_type": "execute_result"
    }
   ],
   "source": [
    "df['Call Duration (min)'].sample(15)"
   ]
  },
  {
   "cell_type": "markdown",
   "metadata": {},
   "source": [
    "The Call duration column has the same issues as Data Usage column as above. So we can Just reuse what was done above"
   ]
  },
  {
   "cell_type": "code",
   "execution_count": 136,
   "metadata": {},
   "outputs": [],
   "source": [
    "df['Call Duration (min)'] = (\n",
    "                            df['Call Duration (min)']\n",
    "                            .str.replace('$','', regex=False)\n",
    "                            .astype('float')\n",
    "                        )"
   ]
  },
  {
   "cell_type": "markdown",
   "metadata": {},
   "source": []
  },
  {
   "cell_type": "markdown",
   "metadata": {},
   "source": [
    "Index(['Transaction ID', 'Customer ID', 'Transaction Date', 'Operator Name',\n",
    "       'Transaction Type', 'Transaction Amount', 'Customer Age',\n",
    "       'Customer Gender', 'Customer Location', 'Service Plan',\n",
    "       'Data Usage (MB)', 'Call Duration (min)', 'SMS Sent',\n",
    "       'Internet Package', 'Transaction Status'],\n",
    "      dtype='object')"
   ]
  }
 ],
 "metadata": {
  "kernelspec": {
   "display_name": "Python 3",
   "language": "python",
   "name": "python3"
  },
  "language_info": {
   "codemirror_mode": {
    "name": "ipython",
    "version": 3
   },
   "file_extension": ".py",
   "mimetype": "text/x-python",
   "name": "python",
   "nbconvert_exporter": "python",
   "pygments_lexer": "ipython3",
   "version": "3.10.13"
  }
 },
 "nbformat": 4,
 "nbformat_minor": 2
}
