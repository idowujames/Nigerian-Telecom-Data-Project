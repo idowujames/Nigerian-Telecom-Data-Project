{
 "cells": [
  {
   "cell_type": "code",
   "execution_count": 33,
   "metadata": {},
   "outputs": [],
   "source": [
    "import pandas as pd\n",
    "import matplotlib.pyplot as plt\n",
    "import seaborn as sns\n",
    "\n",
    "import matplotlib as mpl\n",
    "\n",
    "mpl.style.use(\"seaborn-v0_8-deep\")\n",
    "mpl.rcParams[\"figure.figsize\"] = (14, 5)\n",
    "mpl.rcParams[\"figure.dpi\"] = 100"
   ]
  },
  {
   "cell_type": "markdown",
   "metadata": {},
   "source": [
    "### Loading the datafile for cleaning and quick view"
   ]
  },
  {
   "cell_type": "code",
   "execution_count": 34,
   "metadata": {},
   "outputs": [
    {
     "name": "stdout",
     "output_type": "stream",
     "text": [
      "<class 'pandas.core.frame.DataFrame'>\n",
      "RangeIndex: 55000 entries, 0 to 54999\n",
      "Data columns (total 15 columns):\n",
      " #   Column               Non-Null Count  Dtype  \n",
      "---  ------               --------------  -----  \n",
      " 0   Transaction ID       49431 non-null  object \n",
      " 1   Customer ID          49515 non-null  object \n",
      " 2   Transaction Date     49445 non-null  object \n",
      " 3   Operator Name        55000 non-null  object \n",
      " 4   Transaction Type     55000 non-null  object \n",
      " 5   Transaction Amount   49566 non-null  object \n",
      " 6   Customer Age         49602 non-null  float64\n",
      " 7   Customer Gender      49534 non-null  object \n",
      " 8   Customer Location    49584 non-null  object \n",
      " 9   Service Plan         55000 non-null  object \n",
      " 10  Data Usage (MB)      49533 non-null  object \n",
      " 11  Call Duration (min)  49587 non-null  object \n",
      " 12  SMS Sent             49467 non-null  float64\n",
      " 13  Internet Package     55000 non-null  object \n",
      " 14  Transaction Status   55000 non-null  object \n",
      "dtypes: float64(2), object(13)\n",
      "memory usage: 6.3+ MB\n",
      "None\n"
     ]
    },
    {
     "data": {
      "text/html": [
       "<div>\n",
       "<style scoped>\n",
       "    .dataframe tbody tr th:only-of-type {\n",
       "        vertical-align: middle;\n",
       "    }\n",
       "\n",
       "    .dataframe tbody tr th {\n",
       "        vertical-align: top;\n",
       "    }\n",
       "\n",
       "    .dataframe thead th {\n",
       "        text-align: right;\n",
       "    }\n",
       "</style>\n",
       "<table border=\"1\" class=\"dataframe\">\n",
       "  <thead>\n",
       "    <tr style=\"text-align: right;\">\n",
       "      <th></th>\n",
       "      <th>Transaction ID</th>\n",
       "      <th>Customer ID</th>\n",
       "      <th>Transaction Date</th>\n",
       "      <th>Operator Name</th>\n",
       "      <th>Transaction Type</th>\n",
       "      <th>Transaction Amount</th>\n",
       "      <th>Customer Age</th>\n",
       "      <th>Customer Gender</th>\n",
       "      <th>Customer Location</th>\n",
       "      <th>Service Plan</th>\n",
       "      <th>Data Usage (MB)</th>\n",
       "      <th>Call Duration (min)</th>\n",
       "      <th>SMS Sent</th>\n",
       "      <th>Internet Package</th>\n",
       "      <th>Transaction Status</th>\n",
       "    </tr>\n",
       "  </thead>\n",
       "  <tbody>\n",
       "    <tr>\n",
       "      <th>0</th>\n",
       "      <td>66d1c0da-4597-4458-b4db-b2e94fe9c69f</td>\n",
       "      <td>f5754858-fe7d-4cc9-a1ff-80ce6d64ca90</td>\n",
       "      <td>NaN</td>\n",
       "      <td>Airtel</td>\n",
       "      <td>Ar1tel</td>\n",
       "      <td>NaN</td>\n",
       "      <td>27.0</td>\n",
       "      <td>NaN</td>\n",
       "      <td>Minna</td>\n",
       "      <td>Postpaid</td>\n",
       "      <td>4826.08</td>\n",
       "      <td>214.72</td>\n",
       "      <td>51.0</td>\n",
       "      <td>Daily</td>\n",
       "      <td>Pending</td>\n",
       "    </tr>\n",
       "    <tr>\n",
       "      <th>1</th>\n",
       "      <td>21ca8795-8ad9-47bc-a16b-e4654697ee52</td>\n",
       "      <td>NaN</td>\n",
       "      <td>2023-10-29T02:48:20.227058</td>\n",
       "      <td>9mobile</td>\n",
       "      <td>Bill Payment</td>\n",
       "      <td>4804.1</td>\n",
       "      <td>39.0</td>\n",
       "      <td>Other</td>\n",
       "      <td>Kaduna</td>\n",
       "      <td>Postpaid</td>\n",
       "      <td>3440</td>\n",
       "      <td>234.3</td>\n",
       "      <td>13.0</td>\n",
       "      <td>Weekly</td>\n",
       "      <td>Failed</td>\n",
       "    </tr>\n",
       "    <tr>\n",
       "      <th>2</th>\n",
       "      <td>ea6478bf-6a8c-4d91-bd63-b4464ebc5ae0</td>\n",
       "      <td>3052574b-ae63-4e67-8d86-5f8418ef6f66</td>\n",
       "      <td>2024-04-03T02:22:20.359918</td>\n",
       "      <td>9mobile</td>\n",
       "      <td>Bill Payment</td>\n",
       "      <td>19303.03</td>\n",
       "      <td>NaN</td>\n",
       "      <td>male</td>\n",
       "      <td>Kaduna</td>\n",
       "      <td>Prepaid</td>\n",
       "      <td>NaN</td>\n",
       "      <td>0.9</td>\n",
       "      <td>0.0</td>\n",
       "      <td>Weekly</td>\n",
       "      <td>Completed</td>\n",
       "    </tr>\n",
       "    <tr>\n",
       "      <th>3</th>\n",
       "      <td>NaN</td>\n",
       "      <td>15ad55e7-2c9e-4a84-9b9d-9e7d7747a177</td>\n",
       "      <td>2024-02-07T00:22:30.827156</td>\n",
       "      <td>9mobil3</td>\n",
       "      <td>Bill Payment</td>\n",
       "      <td>4094</td>\n",
       "      <td>NaN</td>\n",
       "      <td>Male</td>\n",
       "      <td>Owerri</td>\n",
       "      <td>Prepaid</td>\n",
       "      <td>2250.0</td>\n",
       "      <td>$16.38</td>\n",
       "      <td>20.0</td>\n",
       "      <td>Daily</td>\n",
       "      <td>Completed</td>\n",
       "    </tr>\n",
       "    <tr>\n",
       "      <th>4</th>\n",
       "      <td>a1165572-b0f4-42e2-9890-eb16ef0b8741</td>\n",
       "      <td>a4adc3b5-2b36-4ba5-b7d9-1a103bfb247a</td>\n",
       "      <td>2008-10-31 21:12:40</td>\n",
       "      <td>Glo</td>\n",
       "      <td>Data Purchase</td>\n",
       "      <td>NaN</td>\n",
       "      <td>36.0</td>\n",
       "      <td>female</td>\n",
       "      <td>Sokoto</td>\n",
       "      <td>Prepaid</td>\n",
       "      <td>3307.97</td>\n",
       "      <td>$92.61</td>\n",
       "      <td>58.0</td>\n",
       "      <td>Weekly</td>\n",
       "      <td>Failed</td>\n",
       "    </tr>\n",
       "  </tbody>\n",
       "</table>\n",
       "</div>"
      ],
      "text/plain": [
       "                         Transaction ID                           Customer ID  \\\n",
       "0  66d1c0da-4597-4458-b4db-b2e94fe9c69f  f5754858-fe7d-4cc9-a1ff-80ce6d64ca90   \n",
       "1  21ca8795-8ad9-47bc-a16b-e4654697ee52                                   NaN   \n",
       "2  ea6478bf-6a8c-4d91-bd63-b4464ebc5ae0  3052574b-ae63-4e67-8d86-5f8418ef6f66   \n",
       "3                                   NaN  15ad55e7-2c9e-4a84-9b9d-9e7d7747a177   \n",
       "4  a1165572-b0f4-42e2-9890-eb16ef0b8741  a4adc3b5-2b36-4ba5-b7d9-1a103bfb247a   \n",
       "\n",
       "             Transaction Date Operator Name Transaction Type  \\\n",
       "0                         NaN        Airtel           Ar1tel   \n",
       "1  2023-10-29T02:48:20.227058       9mobile     Bill Payment   \n",
       "2  2024-04-03T02:22:20.359918       9mobile     Bill Payment   \n",
       "3  2024-02-07T00:22:30.827156       9mobil3     Bill Payment   \n",
       "4         2008-10-31 21:12:40           Glo    Data Purchase   \n",
       "\n",
       "  Transaction Amount  Customer Age Customer Gender Customer Location  \\\n",
       "0                NaN          27.0             NaN             Minna   \n",
       "1             4804.1          39.0           Other            Kaduna   \n",
       "2           19303.03           NaN            male            Kaduna   \n",
       "3               4094           NaN            Male            Owerri   \n",
       "4                NaN          36.0          female            Sokoto   \n",
       "\n",
       "  Service Plan Data Usage (MB) Call Duration (min)  SMS Sent Internet Package  \\\n",
       "0     Postpaid         4826.08              214.72      51.0            Daily   \n",
       "1     Postpaid            3440               234.3      13.0           Weekly   \n",
       "2      Prepaid             NaN                 0.9       0.0           Weekly   \n",
       "3      Prepaid          2250.0              $16.38      20.0            Daily   \n",
       "4      Prepaid         3307.97              $92.61      58.0           Weekly   \n",
       "\n",
       "  Transaction Status  \n",
       "0            Pending  \n",
       "1             Failed  \n",
       "2          Completed  \n",
       "3          Completed  \n",
       "4             Failed  "
      ]
     },
     "execution_count": 34,
     "metadata": {},
     "output_type": "execute_result"
    }
   ],
   "source": [
    "data = pd.read_csv('../data/raw/nigeria_telecom_transactions_messy_actual_cities.csv')\n",
    "\n",
    "print(data.info())\n",
    "data.head()"
   ]
  },
  {
   "cell_type": "code",
   "execution_count": 35,
   "metadata": {},
   "outputs": [],
   "source": [
    "# Copying the data to a new dataframe so as to have what to compare the data to after cleaning\n",
    "df = data.copy()"
   ]
  },
  {
   "cell_type": "markdown",
   "metadata": {},
   "source": [
    "### Checking each Feature for errors in entry and fixing the datatype if need be"
   ]
  },
  {
   "cell_type": "markdown",
   "metadata": {},
   "source": [
    "**Reusable Number of Missing Values Function**"
   ]
  },
  {
   "cell_type": "code",
   "execution_count": 70,
   "metadata": {},
   "outputs": [],
   "source": [
    "def missing_values(column_name):\n",
    "    \"\"\"\n",
    "    This function calculates and returns the number of missing values present in a specified column of the DataFrame.\n",
    "    \"\"\"\n",
    "    return (f\"Number of Missing values in the {column_name} column: {df[column_name].isnull().sum()}\")"
   ]
  },
  {
   "cell_type": "markdown",
   "metadata": {},
   "source": [
    "**Transaction Date Column**"
   ]
  },
  {
   "cell_type": "code",
   "execution_count": 71,
   "metadata": {},
   "outputs": [
    {
     "data": {
      "text/plain": [
       "'Number of Missing values in the Transaction Date column: 4956'"
      ]
     },
     "execution_count": 71,
     "metadata": {},
     "output_type": "execute_result"
    }
   ],
   "source": [
    "# Checking the number of missing values\n",
    "missing_values('Transaction Date')"
   ]
  },
  {
   "cell_type": "code",
   "execution_count": 37,
   "metadata": {},
   "outputs": [
    {
     "data": {
      "text/plain": [
       "12411    2024-04-20T12:25:42.562461\n",
       "40291           1979-09-09 14:11:31\n",
       "18014    2023-10-30T11:44:50.632640\n",
       "48624           1983-09-24 20:40:14\n",
       "29740    2024-07-18T22:11:09.882887\n",
       "24301           2014-10-24 06:42:53\n",
       "37505    2024-07-19T08:51:44.521008\n",
       "39874           1983-04-26 23:21:15\n",
       "Name: Transaction Date, dtype: object"
      ]
     },
     "execution_count": 37,
     "metadata": {},
     "output_type": "execute_result"
    }
   ],
   "source": [
    "# Getting an understanding of the types of values in the column\n",
    "df['Transaction Date'].sample(8)"
   ]
  },
  {
   "cell_type": "code",
   "execution_count": 38,
   "metadata": {},
   "outputs": [],
   "source": [
    "# Converting the Transaction Date column to datetime and removing the nano-seconds from it\n",
    "df['Transaction Date'] = (\n",
    "                            pd.to_datetime\n",
    "                            (\n",
    "                                df['Transaction Date']\n",
    "                                .str.replace('T', ' ', regex=False)\n",
    "                                .str.split('.')\n",
    "                                .str[0]\n",
    "                                )\n",
    "                        )\n"
   ]
  },
  {
   "cell_type": "code",
   "execution_count": 39,
   "metadata": {},
   "outputs": [
    {
     "data": {
      "text/plain": [
       "17612   2024-01-01 19:30:54\n",
       "32507   2024-01-22 17:56:43\n",
       "45562   1973-09-02 09:47:32\n",
       "20296   2024-01-23 23:34:53\n",
       "5059    2024-06-22 00:17:28\n",
       "Name: Transaction Date, dtype: datetime64[ns]"
      ]
     },
     "execution_count": 39,
     "metadata": {},
     "output_type": "execute_result"
    }
   ],
   "source": [
    "df['Transaction Date'].sample(5)"
   ]
  },
  {
   "cell_type": "code",
   "execution_count": 40,
   "metadata": {},
   "outputs": [],
   "source": [
    "# Confirming that the number of null values in 'Transaction Date' is equal to df['Transaction Date'] after convertion\n",
    "num_nulls_original = data['Transaction Date'].isnull().sum()\n",
    "num_nulls_modified = df['Transaction Date'].isnull().sum()\n",
    "assert num_nulls_original == num_nulls_modified, \"The number of null values in 'Transaction Date' must be the same before and after modifications.\"\n",
    "\n",
    "# Confirming that all the values follow the same format\n",
    "assert (df['Transaction Date'].dropna().dt.strftime('%Y-%m-%d %H:%M:%S') == df['Transaction Date'].dropna()).all(), \"Not all non-NaT dates follow the '%Y-%m-%d %H:%M:%S' format\""
   ]
  },
  {
   "cell_type": "markdown",
   "metadata": {},
   "source": [
    "**Operator Name Column**"
   ]
  },
  {
   "cell_type": "markdown",
   "metadata": {},
   "source": [
    "- Checking amount of missing value"
   ]
  },
  {
   "cell_type": "code",
   "execution_count": 72,
   "metadata": {},
   "outputs": [
    {
     "data": {
      "text/plain": [
       "'Number of Missing values in the Operator Name column: 0'"
      ]
     },
     "execution_count": 72,
     "metadata": {},
     "output_type": "execute_result"
    }
   ],
   "source": [
    "missing_values('Operator Name')"
   ]
  },
  {
   "cell_type": "markdown",
   "metadata": {},
   "source": [
    "- Getting the types of values in the column"
   ]
  },
  {
   "cell_type": "code",
   "execution_count": 42,
   "metadata": {},
   "outputs": [
    {
     "data": {
      "text/plain": [
       "Operator Name\n",
       "MTN        12560\n",
       "Airtel     12340\n",
       "9mobile    12322\n",
       "Glo        12284\n",
       "Ar1tel      1413\n",
       "G1o         1397\n",
       "9mobil3     1387\n",
       "MNT         1297\n",
       "Name: count, dtype: int64"
      ]
     },
     "execution_count": 42,
     "metadata": {},
     "output_type": "execute_result"
    }
   ],
   "source": [
    "# Getting the types of values in the column\n",
    "df['Operator Name'].value_counts()"
   ]
  },
  {
   "cell_type": "markdown",
   "metadata": {},
   "source": [
    "- Correcting the spelling errors"
   ]
  },
  {
   "cell_type": "code",
   "execution_count": 43,
   "metadata": {},
   "outputs": [],
   "source": [
    "correction_map = {\n",
    "    'Ar1tel': 'Airtel',\n",
    "    'G1o': 'Glo',\n",
    "    '9mobil3': '9mobile',\n",
    "    'MNT': 'MTN'\n",
    "}\n",
    "\n",
    "# Apply the corrections\n",
    "df['Operator Name'] = df['Operator Name'].replace(correction_map)"
   ]
  },
  {
   "cell_type": "code",
   "execution_count": 44,
   "metadata": {},
   "outputs": [
    {
     "data": {
      "text/plain": [
       "Operator Name\n",
       "MTN        13857\n",
       "Airtel     13753\n",
       "9mobile    13709\n",
       "Glo        13681\n",
       "Name: count, dtype: int64"
      ]
     },
     "execution_count": 44,
     "metadata": {},
     "output_type": "execute_result"
    }
   ],
   "source": [
    "df['Operator Name'].value_counts()"
   ]
  },
  {
   "cell_type": "markdown",
   "metadata": {},
   "source": [
    "**Transaction Type Column**"
   ]
  },
  {
   "cell_type": "code",
   "execution_count": 73,
   "metadata": {},
   "outputs": [
    {
     "data": {
      "text/plain": [
       "'Number of Missing values in the Transaction Type column: 0'"
      ]
     },
     "execution_count": 73,
     "metadata": {},
     "output_type": "execute_result"
    }
   ],
   "source": [
    "missing_values('Transaction Type')"
   ]
  },
  {
   "cell_type": "code",
   "execution_count": 46,
   "metadata": {},
   "outputs": [
    {
     "data": {
      "text/plain": [
       "Transaction Type\n",
       "Bill Payment        16548\n",
       "Airtime Purchase    16536\n",
       "Data Purchase       16455\n",
       "9mobil3              1430\n",
       "Ar1tel               1345\n",
       "G1o                  1343\n",
       "MNT                  1343\n",
       "Name: count, dtype: int64"
      ]
     },
     "execution_count": 46,
     "metadata": {},
     "output_type": "execute_result"
    }
   ],
   "source": [
    "# Getting the types of values in the column\n",
    "df['Transaction Type'].value_counts()"
   ]
  },
  {
   "cell_type": "markdown",
   "metadata": {},
   "source": [
    "it seems there' an error in entry where operators names where included as collection type.\n",
    "We would have to remove these rows(entries) since there's now way to know how to map them to actual transaction types"
   ]
  },
  {
   "cell_type": "code",
   "execution_count": 52,
   "metadata": {},
   "outputs": [],
   "source": [
    "# Filtering out the rows with the wrong transaction type\n",
    "df = df[~df['Transaction Type'].isin(['9mobil3', 'Ar1tel', 'G1o', 'MNT'])]\n",
    "df['Transaction Type'] = df['Transaction Type'].astype('category')"
   ]
  },
  {
   "cell_type": "markdown",
   "metadata": {},
   "source": [
    "**Transaction Amount**"
   ]
  },
  {
   "cell_type": "code",
   "execution_count": 67,
   "metadata": {},
   "outputs": [
    {
     "data": {
      "text/plain": [
       "'Number of Missing values in the Transaction Amount is: 4867'"
      ]
     },
     "execution_count": 67,
     "metadata": {},
     "output_type": "execute_result"
    }
   ],
   "source": [
    "missing_values('Transaction Amount')"
   ]
  },
  {
   "cell_type": "code",
   "execution_count": 54,
   "metadata": {},
   "outputs": [
    {
     "name": "stdout",
     "output_type": "stream",
     "text": [
      "<class 'pandas.core.frame.DataFrame'>\n",
      "Index: 49539 entries, 1 to 54999\n",
      "Data columns (total 15 columns):\n",
      " #   Column               Non-Null Count  Dtype         \n",
      "---  ------               --------------  -----         \n",
      " 0   Transaction ID       44530 non-null  object        \n",
      " 1   Customer ID          44624 non-null  object        \n",
      " 2   Transaction Date     44583 non-null  datetime64[ns]\n",
      " 3   Operator Name        49539 non-null  object        \n",
      " 4   Transaction Type     49539 non-null  category      \n",
      " 5   Transaction Amount   44672 non-null  object        \n",
      " 6   Customer Age         44705 non-null  float64       \n",
      " 7   Customer Gender      44601 non-null  object        \n",
      " 8   Customer Location    44719 non-null  object        \n",
      " 9   Service Plan         49539 non-null  object        \n",
      " 10  Data Usage (MB)      44589 non-null  object        \n",
      " 11  Call Duration (min)  44671 non-null  object        \n",
      " 12  SMS Sent             44576 non-null  float64       \n",
      " 13  Internet Package     49539 non-null  object        \n",
      " 14  Transaction Status   49539 non-null  object        \n",
      "dtypes: category(1), datetime64[ns](1), float64(2), object(11)\n",
      "memory usage: 5.7+ MB\n"
     ]
    }
   ],
   "source": []
  }
 ],
 "metadata": {
  "kernelspec": {
   "display_name": "Python 3",
   "language": "python",
   "name": "python3"
  },
  "language_info": {
   "codemirror_mode": {
    "name": "ipython",
    "version": 3
   },
   "file_extension": ".py",
   "mimetype": "text/x-python",
   "name": "python",
   "nbconvert_exporter": "python",
   "pygments_lexer": "ipython3",
   "version": "3.10.13"
  }
 },
 "nbformat": 4,
 "nbformat_minor": 2
}
