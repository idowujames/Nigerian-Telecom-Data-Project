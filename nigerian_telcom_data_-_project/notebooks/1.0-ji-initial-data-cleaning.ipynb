{
 "cells": [
  {
   "cell_type": "code",
   "execution_count": 1,
   "metadata": {},
   "outputs": [],
   "source": [
    "import pandas as pd\n",
    "import matplotlib.pyplot as plt\n",
    "import seaborn as sns\n",
    "\n",
    "import matplotlib as mpl\n",
    "\n",
    "mpl.style.use(\"seaborn-v0_8-deep\")\n",
    "mpl.rcParams[\"figure.figsize\"] = (14, 5)\n",
    "mpl.rcParams[\"figure.dpi\"] = 100"
   ]
  },
  {
   "cell_type": "markdown",
   "metadata": {},
   "source": [
    "### Loading the datafile for cleaning and quick view"
   ]
  },
  {
   "cell_type": "code",
   "execution_count": 2,
   "metadata": {},
   "outputs": [
    {
     "name": "stdout",
     "output_type": "stream",
     "text": [
      "<class 'pandas.core.frame.DataFrame'>\n",
      "RangeIndex: 55000 entries, 0 to 54999\n",
      "Data columns (total 15 columns):\n",
      " #   Column               Non-Null Count  Dtype  \n",
      "---  ------               --------------  -----  \n",
      " 0   Transaction ID       49431 non-null  object \n",
      " 1   Customer ID          49515 non-null  object \n",
      " 2   Transaction Date     49445 non-null  object \n",
      " 3   Operator Name        55000 non-null  object \n",
      " 4   Transaction Type     55000 non-null  object \n",
      " 5   Transaction Amount   49566 non-null  object \n",
      " 6   Customer Age         49602 non-null  float64\n",
      " 7   Customer Gender      49534 non-null  object \n",
      " 8   Customer Location    49584 non-null  object \n",
      " 9   Service Plan         55000 non-null  object \n",
      " 10  Data Usage (MB)      49533 non-null  object \n",
      " 11  Call Duration (min)  49587 non-null  object \n",
      " 12  SMS Sent             49467 non-null  float64\n",
      " 13  Internet Package     55000 non-null  object \n",
      " 14  Transaction Status   55000 non-null  object \n",
      "dtypes: float64(2), object(13)\n",
      "memory usage: 6.3+ MB\n",
      "None\n"
     ]
    },
    {
     "data": {
      "text/html": [
       "<div>\n",
       "<style scoped>\n",
       "    .dataframe tbody tr th:only-of-type {\n",
       "        vertical-align: middle;\n",
       "    }\n",
       "\n",
       "    .dataframe tbody tr th {\n",
       "        vertical-align: top;\n",
       "    }\n",
       "\n",
       "    .dataframe thead th {\n",
       "        text-align: right;\n",
       "    }\n",
       "</style>\n",
       "<table border=\"1\" class=\"dataframe\">\n",
       "  <thead>\n",
       "    <tr style=\"text-align: right;\">\n",
       "      <th></th>\n",
       "      <th>Transaction ID</th>\n",
       "      <th>Customer ID</th>\n",
       "      <th>Transaction Date</th>\n",
       "      <th>Operator Name</th>\n",
       "      <th>Transaction Type</th>\n",
       "      <th>Transaction Amount</th>\n",
       "      <th>Customer Age</th>\n",
       "      <th>Customer Gender</th>\n",
       "      <th>Customer Location</th>\n",
       "      <th>Service Plan</th>\n",
       "      <th>Data Usage (MB)</th>\n",
       "      <th>Call Duration (min)</th>\n",
       "      <th>SMS Sent</th>\n",
       "      <th>Internet Package</th>\n",
       "      <th>Transaction Status</th>\n",
       "    </tr>\n",
       "  </thead>\n",
       "  <tbody>\n",
       "    <tr>\n",
       "      <th>0</th>\n",
       "      <td>66d1c0da-4597-4458-b4db-b2e94fe9c69f</td>\n",
       "      <td>f5754858-fe7d-4cc9-a1ff-80ce6d64ca90</td>\n",
       "      <td>NaN</td>\n",
       "      <td>Airtel</td>\n",
       "      <td>Ar1tel</td>\n",
       "      <td>NaN</td>\n",
       "      <td>27.0</td>\n",
       "      <td>NaN</td>\n",
       "      <td>Minna</td>\n",
       "      <td>Postpaid</td>\n",
       "      <td>4826.08</td>\n",
       "      <td>214.72</td>\n",
       "      <td>51.0</td>\n",
       "      <td>Daily</td>\n",
       "      <td>Pending</td>\n",
       "    </tr>\n",
       "    <tr>\n",
       "      <th>1</th>\n",
       "      <td>21ca8795-8ad9-47bc-a16b-e4654697ee52</td>\n",
       "      <td>NaN</td>\n",
       "      <td>2023-10-29T02:48:20.227058</td>\n",
       "      <td>9mobile</td>\n",
       "      <td>Bill Payment</td>\n",
       "      <td>4804.1</td>\n",
       "      <td>39.0</td>\n",
       "      <td>Other</td>\n",
       "      <td>Kaduna</td>\n",
       "      <td>Postpaid</td>\n",
       "      <td>3440</td>\n",
       "      <td>234.3</td>\n",
       "      <td>13.0</td>\n",
       "      <td>Weekly</td>\n",
       "      <td>Failed</td>\n",
       "    </tr>\n",
       "    <tr>\n",
       "      <th>2</th>\n",
       "      <td>ea6478bf-6a8c-4d91-bd63-b4464ebc5ae0</td>\n",
       "      <td>3052574b-ae63-4e67-8d86-5f8418ef6f66</td>\n",
       "      <td>2024-04-03T02:22:20.359918</td>\n",
       "      <td>9mobile</td>\n",
       "      <td>Bill Payment</td>\n",
       "      <td>19303.03</td>\n",
       "      <td>NaN</td>\n",
       "      <td>male</td>\n",
       "      <td>Kaduna</td>\n",
       "      <td>Prepaid</td>\n",
       "      <td>NaN</td>\n",
       "      <td>0.9</td>\n",
       "      <td>0.0</td>\n",
       "      <td>Weekly</td>\n",
       "      <td>Completed</td>\n",
       "    </tr>\n",
       "    <tr>\n",
       "      <th>3</th>\n",
       "      <td>NaN</td>\n",
       "      <td>15ad55e7-2c9e-4a84-9b9d-9e7d7747a177</td>\n",
       "      <td>2024-02-07T00:22:30.827156</td>\n",
       "      <td>9mobil3</td>\n",
       "      <td>Bill Payment</td>\n",
       "      <td>4094</td>\n",
       "      <td>NaN</td>\n",
       "      <td>Male</td>\n",
       "      <td>Owerri</td>\n",
       "      <td>Prepaid</td>\n",
       "      <td>2250.0</td>\n",
       "      <td>$16.38</td>\n",
       "      <td>20.0</td>\n",
       "      <td>Daily</td>\n",
       "      <td>Completed</td>\n",
       "    </tr>\n",
       "    <tr>\n",
       "      <th>4</th>\n",
       "      <td>a1165572-b0f4-42e2-9890-eb16ef0b8741</td>\n",
       "      <td>a4adc3b5-2b36-4ba5-b7d9-1a103bfb247a</td>\n",
       "      <td>2008-10-31 21:12:40</td>\n",
       "      <td>Glo</td>\n",
       "      <td>Data Purchase</td>\n",
       "      <td>NaN</td>\n",
       "      <td>36.0</td>\n",
       "      <td>female</td>\n",
       "      <td>Sokoto</td>\n",
       "      <td>Prepaid</td>\n",
       "      <td>3307.97</td>\n",
       "      <td>$92.61</td>\n",
       "      <td>58.0</td>\n",
       "      <td>Weekly</td>\n",
       "      <td>Failed</td>\n",
       "    </tr>\n",
       "  </tbody>\n",
       "</table>\n",
       "</div>"
      ],
      "text/plain": [
       "                         Transaction ID                           Customer ID  \\\n",
       "0  66d1c0da-4597-4458-b4db-b2e94fe9c69f  f5754858-fe7d-4cc9-a1ff-80ce6d64ca90   \n",
       "1  21ca8795-8ad9-47bc-a16b-e4654697ee52                                   NaN   \n",
       "2  ea6478bf-6a8c-4d91-bd63-b4464ebc5ae0  3052574b-ae63-4e67-8d86-5f8418ef6f66   \n",
       "3                                   NaN  15ad55e7-2c9e-4a84-9b9d-9e7d7747a177   \n",
       "4  a1165572-b0f4-42e2-9890-eb16ef0b8741  a4adc3b5-2b36-4ba5-b7d9-1a103bfb247a   \n",
       "\n",
       "             Transaction Date Operator Name Transaction Type  \\\n",
       "0                         NaN        Airtel           Ar1tel   \n",
       "1  2023-10-29T02:48:20.227058       9mobile     Bill Payment   \n",
       "2  2024-04-03T02:22:20.359918       9mobile     Bill Payment   \n",
       "3  2024-02-07T00:22:30.827156       9mobil3     Bill Payment   \n",
       "4         2008-10-31 21:12:40           Glo    Data Purchase   \n",
       "\n",
       "  Transaction Amount  Customer Age Customer Gender Customer Location  \\\n",
       "0                NaN          27.0             NaN             Minna   \n",
       "1             4804.1          39.0           Other            Kaduna   \n",
       "2           19303.03           NaN            male            Kaduna   \n",
       "3               4094           NaN            Male            Owerri   \n",
       "4                NaN          36.0          female            Sokoto   \n",
       "\n",
       "  Service Plan Data Usage (MB) Call Duration (min)  SMS Sent Internet Package  \\\n",
       "0     Postpaid         4826.08              214.72      51.0            Daily   \n",
       "1     Postpaid            3440               234.3      13.0           Weekly   \n",
       "2      Prepaid             NaN                 0.9       0.0           Weekly   \n",
       "3      Prepaid          2250.0              $16.38      20.0            Daily   \n",
       "4      Prepaid         3307.97              $92.61      58.0           Weekly   \n",
       "\n",
       "  Transaction Status  \n",
       "0            Pending  \n",
       "1             Failed  \n",
       "2          Completed  \n",
       "3          Completed  \n",
       "4             Failed  "
      ]
     },
     "execution_count": 2,
     "metadata": {},
     "output_type": "execute_result"
    }
   ],
   "source": [
    "data = pd.read_csv('../data/raw/nigeria_telecom_transactions_messy_actual_cities.csv')\n",
    "\n",
    "print(data.info())\n",
    "data.head()"
   ]
  },
  {
   "cell_type": "code",
   "execution_count": 3,
   "metadata": {},
   "outputs": [],
   "source": [
    "# Copying the data to a new dataframe so as to have what to compare the data to after cleaning\n",
    "df = data.copy()"
   ]
  },
  {
   "cell_type": "markdown",
   "metadata": {},
   "source": [
    "### Checking each Feature for errors in entry and fixing the datatype if need be"
   ]
  },
  {
   "cell_type": "markdown",
   "metadata": {},
   "source": [
    "**Reusable Number of Missing Values Function**"
   ]
  },
  {
   "cell_type": "code",
   "execution_count": 4,
   "metadata": {},
   "outputs": [],
   "source": [
    "def missing_values(column_name):\n",
    "    \"\"\"\n",
    "    This function calculates and returns the number of missing values present in a specified column of the DataFrame.\n",
    "    \"\"\"\n",
    "    return (f\"Number of Missing values in the {column_name} column: {df[column_name].isnull().sum()}\")"
   ]
  },
  {
   "cell_type": "code",
   "execution_count": 5,
   "metadata": {},
   "outputs": [
    {
     "data": {
      "text/plain": [
       "Transaction ID         10.125455\n",
       "Customer ID             9.972727\n",
       "Transaction Date       10.100000\n",
       "Operator Name           0.000000\n",
       "Transaction Type        0.000000\n",
       "Transaction Amount      9.880000\n",
       "Customer Age            9.814545\n",
       "Customer Gender         9.938182\n",
       "Customer Location       9.847273\n",
       "Service Plan            0.000000\n",
       "Data Usage (MB)         9.940000\n",
       "Call Duration (min)     9.841818\n",
       "SMS Sent               10.060000\n",
       "Internet Package        0.000000\n",
       "Transaction Status      0.000000\n",
       "dtype: float64"
      ]
     },
     "execution_count": 5,
     "metadata": {},
     "output_type": "execute_result"
    }
   ],
   "source": [
    "# Getting the percentage of the missing values by column\n",
    "df.isna().mean() * 100"
   ]
  },
  {
   "cell_type": "markdown",
   "metadata": {},
   "source": [
    "It appears there are missing values in about 10 columns but compared to the size of the dataset the missing data is only about 10% of the entire dataset.\n",
    "The decision to eithr remove the missing values or impute them would be made later. "
   ]
  },
  {
   "cell_type": "markdown",
   "metadata": {},
   "source": [
    "**Transaction Date Column**"
   ]
  },
  {
   "cell_type": "code",
   "execution_count": 6,
   "metadata": {},
   "outputs": [
    {
     "data": {
      "text/plain": [
       "7991     2024-06-12T09:33:44.833949\n",
       "35231    2024-03-24T15:12:12.831947\n",
       "23090    2024-07-19T00:18:45.604970\n",
       "39449    2023-10-21T16:09:15.863185\n",
       "15811                           NaN\n",
       "37019           2011-11-27 11:10:47\n",
       "46847    2023-11-19T01:39:03.463869\n",
       "5451     2024-04-22T14:49:59.301919\n",
       "Name: Transaction Date, dtype: object"
      ]
     },
     "execution_count": 6,
     "metadata": {},
     "output_type": "execute_result"
    }
   ],
   "source": [
    "# Getting an understanding of the types of values in the column\n",
    "df['Transaction Date'].sample(8)"
   ]
  },
  {
   "cell_type": "code",
   "execution_count": 7,
   "metadata": {},
   "outputs": [],
   "source": [
    "# Converting the Transaction Date column to datetime and removing the nano-seconds from it\n",
    "df['Transaction Date'] = (\n",
    "                            pd.to_datetime\n",
    "                            (\n",
    "                                df['Transaction Date']\n",
    "                                .str.replace('T', ' ', regex=False)\n",
    "                                .str.split('.')\n",
    "                                .str[0]\n",
    "                                )\n",
    "                        )\n"
   ]
  },
  {
   "cell_type": "code",
   "execution_count": 8,
   "metadata": {},
   "outputs": [
    {
     "data": {
      "text/plain": [
       "23293   2024-06-03 17:54:38\n",
       "18219                   NaT\n",
       "30737   2024-06-16 15:03:04\n",
       "47185   1975-06-09 02:43:25\n",
       "34173   2024-04-13 03:20:03\n",
       "Name: Transaction Date, dtype: datetime64[ns]"
      ]
     },
     "execution_count": 8,
     "metadata": {},
     "output_type": "execute_result"
    }
   ],
   "source": [
    "df['Transaction Date'].sample(5)"
   ]
  },
  {
   "cell_type": "code",
   "execution_count": 9,
   "metadata": {},
   "outputs": [],
   "source": [
    "# Confirming that the number of null values in 'Transaction Date' is equal to df['Transaction Date'] after convertion\n",
    "num_nulls_original = data['Transaction Date'].isnull().sum()\n",
    "num_nulls_modified = df['Transaction Date'].isnull().sum()\n",
    "assert num_nulls_original == num_nulls_modified, \"The number of null values in 'Transaction Date' must be the same before and after modifications.\"\n",
    "\n",
    "# Confirming that all the values follow the same format\n",
    "assert (df['Transaction Date'].dropna().dt.strftime('%Y-%m-%d %H:%M:%S') == df['Transaction Date'].dropna()).all(), \"Not all non-NaT dates follow the '%Y-%m-%d %H:%M:%S' format\""
   ]
  },
  {
   "cell_type": "markdown",
   "metadata": {},
   "source": [
    "**Operator Name Column**"
   ]
  },
  {
   "cell_type": "markdown",
   "metadata": {},
   "source": [
    "- Getting the types of values in the column"
   ]
  },
  {
   "cell_type": "code",
   "execution_count": 10,
   "metadata": {},
   "outputs": [
    {
     "data": {
      "text/plain": [
       "Operator Name\n",
       "MTN        12560\n",
       "Airtel     12340\n",
       "9mobile    12322\n",
       "Glo        12284\n",
       "Ar1tel      1413\n",
       "G1o         1397\n",
       "9mobil3     1387\n",
       "MNT         1297\n",
       "Name: count, dtype: int64"
      ]
     },
     "execution_count": 10,
     "metadata": {},
     "output_type": "execute_result"
    }
   ],
   "source": [
    "# Getting the types of values in the column\n",
    "df['Operator Name'].value_counts()"
   ]
  },
  {
   "cell_type": "markdown",
   "metadata": {},
   "source": [
    "- Correcting the spelling errors"
   ]
  },
  {
   "cell_type": "code",
   "execution_count": 11,
   "metadata": {},
   "outputs": [],
   "source": [
    "correction_map = {\n",
    "    'Ar1tel': 'Airtel',\n",
    "    'G1o': 'Glo',\n",
    "    '9mobil3': '9mobile',\n",
    "    'MNT': 'MTN'\n",
    "}\n",
    "\n",
    "# Apply the corrections\n",
    "df['Operator Name'] = df['Operator Name'].replace(correction_map).astype('category')"
   ]
  },
  {
   "cell_type": "code",
   "execution_count": 12,
   "metadata": {},
   "outputs": [
    {
     "data": {
      "text/plain": [
       "Operator Name\n",
       "MTN        13857\n",
       "Airtel     13753\n",
       "9mobile    13709\n",
       "Glo        13681\n",
       "Name: count, dtype: int64"
      ]
     },
     "execution_count": 12,
     "metadata": {},
     "output_type": "execute_result"
    }
   ],
   "source": [
    "df['Operator Name'].value_counts()"
   ]
  },
  {
   "cell_type": "markdown",
   "metadata": {},
   "source": [
    "**Transaction Type Column**"
   ]
  },
  {
   "cell_type": "code",
   "execution_count": 13,
   "metadata": {},
   "outputs": [
    {
     "data": {
      "text/plain": [
       "Transaction Type\n",
       "Bill Payment        16548\n",
       "Airtime Purchase    16536\n",
       "Data Purchase       16455\n",
       "9mobil3              1430\n",
       "Ar1tel               1345\n",
       "G1o                  1343\n",
       "MNT                  1343\n",
       "Name: count, dtype: int64"
      ]
     },
     "execution_count": 13,
     "metadata": {},
     "output_type": "execute_result"
    }
   ],
   "source": [
    "# Getting the types of values in the column\n",
    "df['Transaction Type'].value_counts()"
   ]
  },
  {
   "cell_type": "markdown",
   "metadata": {},
   "source": [
    "it seems there' an error in entry where operators names where included as collection type.\n",
    "We would have to remove these rows(entries) since there's now way to know how to map them to actual transaction types"
   ]
  },
  {
   "cell_type": "code",
   "execution_count": 14,
   "metadata": {},
   "outputs": [],
   "source": [
    "# Filtering out the rows with the wrong transaction type\n",
    "df = df[~df['Transaction Type'].isin(['9mobil3', 'Ar1tel', 'G1o', 'MNT'])]\n",
    "df['Transaction Type'] = df['Transaction Type'].astype('category')"
   ]
  },
  {
   "cell_type": "markdown",
   "metadata": {},
   "source": [
    "**Transaction Amount**"
   ]
  },
  {
   "cell_type": "code",
   "execution_count": 15,
   "metadata": {},
   "outputs": [
    {
     "data": {
      "text/plain": [
       "54771         3430\n",
       "47393    $10216.23\n",
       "53023    $17164.09\n",
       "39437         3062\n",
       "14781    $14073.93\n",
       "4379        8626.2\n",
       "10974       1906.4\n",
       "20412        11196\n",
       "47759    $14257.17\n",
       "51841     18936.69\n",
       "Name: Transaction Amount, dtype: object"
      ]
     },
     "execution_count": 15,
     "metadata": {},
     "output_type": "execute_result"
    }
   ],
   "source": [
    "# Checking to see the values in the column\n",
    "df['Transaction Amount'].sample(10)"
   ]
  },
  {
   "cell_type": "markdown",
   "metadata": {},
   "source": [
    "We can see that some of the entries have $ signs in front and possibly whitespaces.\n",
    "So we have to deal with those first before converting the column to float"
   ]
  },
  {
   "cell_type": "code",
   "execution_count": 16,
   "metadata": {},
   "outputs": [],
   "source": [
    "df['Transaction Amount'] =(\n",
    "                            df['Transaction Amount']\n",
    "                            .str.strip()\n",
    "                            .str.replace('$','')\n",
    "                            .astype('float')\n",
    "                        )"
   ]
  },
  {
   "cell_type": "code",
   "execution_count": 17,
   "metadata": {},
   "outputs": [],
   "source": [
    "# Making sure we did not create more missing values when cleaning the column\n",
    "assert (df['Transaction Amount'].isna().sum()) == 4867 , 'There are more missing values than expected'"
   ]
  },
  {
   "cell_type": "markdown",
   "metadata": {},
   "source": [
    "**Customer Age**"
   ]
  },
  {
   "cell_type": "code",
   "execution_count": 18,
   "metadata": {},
   "outputs": [
    {
     "data": {
      "text/plain": [
       "29338    61.0\n",
       "38430    46.0\n",
       "11649    56.0\n",
       "4627     30.0\n",
       "38733    26.0\n",
       "43994    20.0\n",
       "28071    53.0\n",
       "4173     48.0\n",
       "45956    60.0\n",
       "47096    26.0\n",
       "Name: Customer Age, dtype: float64"
      ]
     },
     "execution_count": 18,
     "metadata": {},
     "output_type": "execute_result"
    }
   ],
   "source": [
    "# Checking the values in the column\n",
    "df['Customer Age'].sample(10)"
   ]
  },
  {
   "cell_type": "code",
   "execution_count": 19,
   "metadata": {},
   "outputs": [
    {
     "data": {
      "text/plain": [
       "count    44705.000000\n",
       "mean        44.062141\n",
       "std         15.297023\n",
       "min         18.000000\n",
       "25%         31.000000\n",
       "50%         44.000000\n",
       "75%         57.000000\n",
       "max         70.000000\n",
       "Name: Customer Age, dtype: float64"
      ]
     },
     "execution_count": 19,
     "metadata": {},
     "output_type": "execute_result"
    }
   ],
   "source": [
    "# Checking if their are outliers that might be errors\n",
    "df['Customer Age'].describe()"
   ]
  },
  {
   "cell_type": "markdown",
   "metadata": {},
   "source": [
    "The Min, Max and Mean age are well within expected ranges so it appears there's no outlier or errors in age entry"
   ]
  },
  {
   "cell_type": "markdown",
   "metadata": {},
   "source": [
    "**Customer Gender**"
   ]
  },
  {
   "cell_type": "code",
   "execution_count": 20,
   "metadata": {},
   "outputs": [
    {
     "data": {
      "text/plain": [
       "Customer Gender\n",
       "male      8979\n",
       "Female    8978\n",
       "Other     8965\n",
       "female    8867\n",
       "Male      8812\n",
       "Name: count, dtype: int64"
      ]
     },
     "execution_count": 20,
     "metadata": {},
     "output_type": "execute_result"
    }
   ],
   "source": [
    "# Understanding the types of values in the column\n",
    "df['Customer Gender'].value_counts()"
   ]
  },
  {
   "cell_type": "markdown",
   "metadata": {},
   "source": [
    "It appears that there are spelling inconsistencies with the gender column and also a gender type \"Other\". The \"Other\" type are probably people who didn't want to indicate their gender so we will leave as is and only correct the spelling inconsistency."
   ]
  },
  {
   "cell_type": "code",
   "execution_count": 21,
   "metadata": {},
   "outputs": [],
   "source": [
    "gender_map = {\n",
    "    'Male': 'male',\n",
    "    'Female':'female',\n",
    "    'Other': 'other'\n",
    "}\n",
    "df['Customer Gender'] = df['Customer Gender'].replace(gender_map, regex=False).astype('category')"
   ]
  },
  {
   "cell_type": "markdown",
   "metadata": {},
   "source": [
    "**Customer Location**"
   ]
  },
  {
   "cell_type": "code",
   "execution_count": 22,
   "metadata": {},
   "outputs": [
    {
     "data": {
      "text/plain": [
       "array(['Kaduna', 'Owerri', 'Sokoto', 'Jos', 'Ilorin', 'Kano', nan,\n",
       "       'Gombe', 'Lagos', 'Onitsha', 'Minna', 'Calabar', 'Abeokuta', 'Uyo',\n",
       "       'Asaba', 'Maiduguri', 'Makurdi', 'Warri', 'Oyo', 'Awka', 'Jalingo',\n",
       "       'Aba', 'Port Harcourt', 'Enugu', 'Akure', 'Osogbo', 'Benin City',\n",
       "       'Bauchi', 'Abuja', 'Zaria', 'Ibadan'], dtype=object)"
      ]
     },
     "execution_count": 22,
     "metadata": {},
     "output_type": "execute_result"
    }
   ],
   "source": [
    "# checking all the state names to see if there are any spelling mistakes or unusal state names\n",
    "df['Customer Location'].unique()"
   ]
  },
  {
   "cell_type": "markdown",
   "metadata": {},
   "source": [
    "It seems there are no errors in the customer location column apart from having missing data which would be taking care of later along with the other columns with missing data "
   ]
  },
  {
   "cell_type": "markdown",
   "metadata": {},
   "source": [
    "**Service Plan**"
   ]
  },
  {
   "cell_type": "code",
   "execution_count": 23,
   "metadata": {},
   "outputs": [
    {
     "data": {
      "text/plain": [
       "Service Plan\n",
       "Prepaid     22335\n",
       "Postpaid    22285\n",
       "G1o          1310\n",
       "9mobil3      1233\n",
       "Ar1tel       1199\n",
       "MNT          1177\n",
       "Name: count, dtype: int64"
      ]
     },
     "execution_count": 23,
     "metadata": {},
     "output_type": "execute_result"
    }
   ],
   "source": [
    "df['Service Plan'].value_counts()"
   ]
  },
  {
   "cell_type": "markdown",
   "metadata": {},
   "source": [
    "Just like the Transaction Type column, it seems there are errors in entry where operators names where included as service plan column.\n",
    "We would have to remove these rows(entries) since there's now way to know how to map them to actual service plans"
   ]
  },
  {
   "cell_type": "code",
   "execution_count": 24,
   "metadata": {},
   "outputs": [],
   "source": [
    "# Filter out rows where 'Service Plan' matches any of the excluded plans\n",
    "df = df[~df['Service Plan'].isin (['G1o','9mobil3','Ar1tel','MNT'])]\n",
    "\n",
    "# Convert 'Service Plan' to category type for efficiency\n",
    "df['Service Plan'] = df['Service Plan'].astype('category')"
   ]
  },
  {
   "cell_type": "markdown",
   "metadata": {},
   "source": [
    "**Data Usage (MB)**"
   ]
  },
  {
   "cell_type": "code",
   "execution_count": 25,
   "metadata": {},
   "outputs": [
    {
     "data": {
      "text/plain": [
       "6421       3730.1\n",
       "20902     3892.41\n",
       "659          4087\n",
       "43766    $3732.86\n",
       "39297         NaN\n",
       "49041     3871.91\n",
       "26843        1687\n",
       "49179        2078\n",
       "37750     1678.12\n",
       "46992     4790.85\n",
       "38999     3461.09\n",
       "54893      3329.9\n",
       "20100     4383.63\n",
       "51424        2470\n",
       "20401    $1783.13\n",
       "Name: Data Usage (MB), dtype: object"
      ]
     },
     "execution_count": 25,
     "metadata": {},
     "output_type": "execute_result"
    }
   ],
   "source": [
    "# Viewing how the data looks like\n",
    "df['Data Usage (MB)'].sample(15)"
   ]
  },
  {
   "cell_type": "markdown",
   "metadata": {},
   "source": [
    "As can be viewed above some of the values have a dollar sign before them. Next step is to remove these dollar signs and convert the column to a float datatype."
   ]
  },
  {
   "cell_type": "code",
   "execution_count": 26,
   "metadata": {},
   "outputs": [
    {
     "data": {
      "text/plain": [
       "np.int64(4540)"
      ]
     },
     "execution_count": 26,
     "metadata": {},
     "output_type": "execute_result"
    }
   ],
   "source": [
    "# Getting the amount of nan values in the column before cleaning and conversion\n",
    "# This helps in making sure that there are not some edge values we are not aware of.\n",
    "# Because if we have more nan after conversion, \n",
    "# then that means there are edge values we are not aware of that were converted to nan\n",
    "\n",
    "df['Data Usage (MB)'].isna().sum()"
   ]
  },
  {
   "cell_type": "code",
   "execution_count": 27,
   "metadata": {},
   "outputs": [],
   "source": [
    "df['Data Usage (MB)'] = (\n",
    "                            df['Data Usage (MB)']\n",
    "                            .str.replace('$','', regex=False)\n",
    "                            .astype('float')\n",
    "                        )"
   ]
  },
  {
   "cell_type": "code",
   "execution_count": 28,
   "metadata": {},
   "outputs": [],
   "source": [
    "assert (df['Data Usage (MB)'].isna().sum() == 4540), 'The column has more missing values than expected'"
   ]
  },
  {
   "cell_type": "markdown",
   "metadata": {},
   "source": [
    "**Call Duration (min)**"
   ]
  },
  {
   "cell_type": "code",
   "execution_count": 29,
   "metadata": {},
   "outputs": [
    {
     "data": {
      "text/plain": [
       "47000        NaN\n",
       "2886       211.5\n",
       "29313         13\n",
       "52140        NaN\n",
       "33535      240.0\n",
       "54078     164.01\n",
       "6055     $132.87\n",
       "3257      272.13\n",
       "28354    $276.08\n",
       "8704       268.3\n",
       "23452      131.2\n",
       "19721     $88.04\n",
       "1389      132.06\n",
       "23369    $267.19\n",
       "20228      $4.18\n",
       "Name: Call Duration (min), dtype: object"
      ]
     },
     "execution_count": 29,
     "metadata": {},
     "output_type": "execute_result"
    }
   ],
   "source": [
    "df['Call Duration (min)'].sample(15)"
   ]
  },
  {
   "cell_type": "markdown",
   "metadata": {},
   "source": [
    "The Call duration column has the same issues as Data Usage column as above. So we can Just reuse what was done above"
   ]
  },
  {
   "cell_type": "code",
   "execution_count": 30,
   "metadata": {},
   "outputs": [],
   "source": [
    "df['Call Duration (min)'] = (\n",
    "                            df['Call Duration (min)']\n",
    "                            .str.replace('$','', regex=False)\n",
    "                            .astype('float')\n",
    "                        )"
   ]
  },
  {
   "cell_type": "code",
   "execution_count": 31,
   "metadata": {},
   "outputs": [
    {
     "data": {
      "text/plain": [
       "count    40238.000000\n",
       "mean       149.906659\n",
       "std         86.308030\n",
       "min          0.000000\n",
       "25%         75.812500\n",
       "50%        149.425000\n",
       "75%        224.735000\n",
       "max        300.000000\n",
       "Name: Call Duration (min), dtype: float64"
      ]
     },
     "execution_count": 31,
     "metadata": {},
     "output_type": "execute_result"
    }
   ],
   "source": [
    "# Checking if their are outliers that might be errors\n",
    "df['Call Duration (min)'].describe()"
   ]
  },
  {
   "cell_type": "markdown",
   "metadata": {},
   "source": [
    "**SMS Sent**"
   ]
  },
  {
   "cell_type": "code",
   "execution_count": 32,
   "metadata": {},
   "outputs": [
    {
     "data": {
      "text/plain": [
       "36182     NaN\n",
       "47175     5.0\n",
       "37238    83.0\n",
       "1159     80.0\n",
       "28881    60.0\n",
       "32861    10.0\n",
       "13966     NaN\n",
       "47014    44.0\n",
       "36851    29.0\n",
       "19470     8.0\n",
       "25396    51.0\n",
       "21022     5.0\n",
       "7866      NaN\n",
       "17052     3.0\n",
       "4982      9.0\n",
       "Name: SMS Sent, dtype: float64"
      ]
     },
     "execution_count": 32,
     "metadata": {},
     "output_type": "execute_result"
    }
   ],
   "source": [
    "df['SMS Sent'].sample(15)"
   ]
  },
  {
   "cell_type": "code",
   "execution_count": 33,
   "metadata": {},
   "outputs": [
    {
     "data": {
      "text/plain": [
       "count    40135.000000\n",
       "mean        49.537461\n",
       "std         29.092979\n",
       "min          0.000000\n",
       "25%         24.000000\n",
       "50%         49.000000\n",
       "75%         75.000000\n",
       "max        100.000000\n",
       "Name: SMS Sent, dtype: float64"
      ]
     },
     "execution_count": 33,
     "metadata": {},
     "output_type": "execute_result"
    }
   ],
   "source": [
    "# Checking if their are outliers that might be errors\n",
    "df['SMS Sent'].describe()"
   ]
  },
  {
   "cell_type": "markdown",
   "metadata": {},
   "source": [
    "It appears the sms sent column is error free(No outliers and no error in entry) except for the missing values that would be dealt with later"
   ]
  },
  {
   "cell_type": "markdown",
   "metadata": {},
   "source": [
    "**Internet Package**"
   ]
  },
  {
   "cell_type": "code",
   "execution_count": 34,
   "metadata": {},
   "outputs": [
    {
     "data": {
      "text/plain": [
       "16765    Monthly\n",
       "41730      Daily\n",
       "7175     Monthly\n",
       "16319    Monthly\n",
       "1024      Weekly\n",
       "23693    Monthly\n",
       "21362     Weekly\n",
       "41045     Weekly\n",
       "44518    Monthly\n",
       "18184    Monthly\n",
       "4253      Weekly\n",
       "41006      Daily\n",
       "34961      Daily\n",
       "28622     Weekly\n",
       "37216      Daily\n",
       "Name: Internet Package, dtype: object"
      ]
     },
     "execution_count": 34,
     "metadata": {},
     "output_type": "execute_result"
    }
   ],
   "source": [
    "df['Internet Package'].sample(15)"
   ]
  },
  {
   "cell_type": "code",
   "execution_count": 35,
   "metadata": {},
   "outputs": [
    {
     "data": {
      "text/plain": [
       "Internet Package\n",
       "Weekly     13430\n",
       "Daily      13322\n",
       "Monthly    13282\n",
       "G1o         1220\n",
       "9mobil3     1165\n",
       "Ar1tel      1139\n",
       "MNT         1062\n",
       "Name: count, dtype: int64"
      ]
     },
     "execution_count": 35,
     "metadata": {},
     "output_type": "execute_result"
    }
   ],
   "source": [
    "df['Internet Package'].value_counts()"
   ]
  },
  {
   "cell_type": "markdown",
   "metadata": {},
   "source": [
    "Just like the Transaction Type and Service Plan columns, it seems there are errors in entry where operators names where included as internet package column.\n",
    "We would have to remove these rows(entries) since there's now way to know how to map them to actual Internet Packages."
   ]
  },
  {
   "cell_type": "code",
   "execution_count": 36,
   "metadata": {},
   "outputs": [],
   "source": [
    "# Filter out rows where 'Internet Package' matches any of the excluded plans\n",
    "df = df[~df['Internet Package'].isin (['G1o','9mobil3','Ar1tel','MNT'])]\n",
    "\n",
    "# Convert 'Internet Package' to category type for efficiency\n",
    "df['Internet Package'] = df['Internet Package'].astype('category')"
   ]
  },
  {
   "cell_type": "code",
   "execution_count": 37,
   "metadata": {},
   "outputs": [
    {
     "data": {
      "text/plain": [
       "Internet Package\n",
       "Weekly     13430\n",
       "Daily      13322\n",
       "Monthly    13282\n",
       "Name: count, dtype: int64"
      ]
     },
     "execution_count": 37,
     "metadata": {},
     "output_type": "execute_result"
    }
   ],
   "source": [
    "df['Internet Package'].value_counts()"
   ]
  },
  {
   "cell_type": "markdown",
   "metadata": {},
   "source": [
    "**Transaction Status**"
   ]
  },
  {
   "cell_type": "code",
   "execution_count": 38,
   "metadata": {},
   "outputs": [
    {
     "data": {
      "text/plain": [
       "29871       Failed\n",
       "52934       Failed\n",
       "35545       Failed\n",
       "11030          MNT\n",
       "53077      Pending\n",
       "45681      Pending\n",
       "37986       Ar1tel\n",
       "4718       Pending\n",
       "53059    Completed\n",
       "54319       Failed\n",
       "44996      Pending\n",
       "28678      Pending\n",
       "44991    Completed\n",
       "6000       Pending\n",
       "18029    Completed\n",
       "Name: Transaction Status, dtype: object"
      ]
     },
     "execution_count": 38,
     "metadata": {},
     "output_type": "execute_result"
    }
   ],
   "source": [
    "df['Transaction Status'].sample(15)"
   ]
  },
  {
   "cell_type": "code",
   "execution_count": 39,
   "metadata": {},
   "outputs": [
    {
     "data": {
      "text/plain": [
       "Transaction Status\n",
       "Completed    12046\n",
       "Pending      12027\n",
       "Failed       12008\n",
       "Ar1tel        1012\n",
       "9mobil3       1004\n",
       "MNT            992\n",
       "G1o            945\n",
       "Name: count, dtype: int64"
      ]
     },
     "execution_count": 39,
     "metadata": {},
     "output_type": "execute_result"
    }
   ],
   "source": [
    "df['Transaction Status'].value_counts()"
   ]
  },
  {
   "cell_type": "markdown",
   "metadata": {},
   "source": [
    "Transaction Status has the same issues as Internet package column and others. We would clean it the same way also"
   ]
  },
  {
   "cell_type": "code",
   "execution_count": 40,
   "metadata": {},
   "outputs": [],
   "source": [
    "# Filter out rows where 'Transaction Status' matches any of the excluded plans\n",
    "df = df[~df['Transaction Status'].isin (['G1o','9mobil3','Ar1tel','MNT'])]\n",
    "\n",
    "# Convert 'Transaction Status' to category type for efficiency\n",
    "df['Transaction Status'] = df['Transaction Status'].astype('category')"
   ]
  },
  {
   "cell_type": "code",
   "execution_count": 41,
   "metadata": {},
   "outputs": [
    {
     "data": {
      "text/plain": [
       "Transaction Status\n",
       "Completed    12046\n",
       "Pending      12027\n",
       "Failed       12008\n",
       "Name: count, dtype: int64"
      ]
     },
     "execution_count": 41,
     "metadata": {},
     "output_type": "execute_result"
    }
   ],
   "source": [
    "df['Transaction Status'].value_counts()"
   ]
  },
  {
   "cell_type": "markdown",
   "metadata": {},
   "source": [
    "Initial Data cleaning completed. \n",
    "The initial cleaned csv will be saved to the interim data folder\n",
    "And a final cleaning(Dealing with missing values etc) will be done on the datasheet"
   ]
  },
  {
   "cell_type": "code",
   "execution_count": 42,
   "metadata": {},
   "outputs": [
    {
     "name": "stdout",
     "output_type": "stream",
     "text": [
      "<class 'pandas.core.frame.DataFrame'>\n",
      "Index: 36081 entries, 1 to 54998\n",
      "Data columns (total 15 columns):\n",
      " #   Column               Non-Null Count  Dtype         \n",
      "---  ------               --------------  -----         \n",
      " 0   Transaction ID       32466 non-null  object        \n",
      " 1   Customer ID          32503 non-null  object        \n",
      " 2   Transaction Date     32473 non-null  datetime64[ns]\n",
      " 3   Operator Name        36081 non-null  category      \n",
      " 4   Transaction Type     36081 non-null  category      \n",
      " 5   Transaction Amount   32507 non-null  float64       \n",
      " 6   Customer Age         32625 non-null  float64       \n",
      " 7   Customer Gender      32501 non-null  category      \n",
      " 8   Customer Location    32537 non-null  object        \n",
      " 9   Service Plan         36081 non-null  category      \n",
      " 10  Data Usage (MB)      32427 non-null  float64       \n",
      " 11  Call Duration (min)  32548 non-null  float64       \n",
      " 12  SMS Sent             32441 non-null  float64       \n",
      " 13  Internet Package     36081 non-null  category      \n",
      " 14  Transaction Status   36081 non-null  category      \n",
      "dtypes: category(6), datetime64[ns](1), float64(5), object(3)\n",
      "memory usage: 3.0+ MB\n",
      "None\n"
     ]
    },
    {
     "data": {
      "text/html": [
       "<div>\n",
       "<style scoped>\n",
       "    .dataframe tbody tr th:only-of-type {\n",
       "        vertical-align: middle;\n",
       "    }\n",
       "\n",
       "    .dataframe tbody tr th {\n",
       "        vertical-align: top;\n",
       "    }\n",
       "\n",
       "    .dataframe thead th {\n",
       "        text-align: right;\n",
       "    }\n",
       "</style>\n",
       "<table border=\"1\" class=\"dataframe\">\n",
       "  <thead>\n",
       "    <tr style=\"text-align: right;\">\n",
       "      <th></th>\n",
       "      <th>Transaction ID</th>\n",
       "      <th>Customer ID</th>\n",
       "      <th>Transaction Date</th>\n",
       "      <th>Operator Name</th>\n",
       "      <th>Transaction Type</th>\n",
       "      <th>Transaction Amount</th>\n",
       "      <th>Customer Age</th>\n",
       "      <th>Customer Gender</th>\n",
       "      <th>Customer Location</th>\n",
       "      <th>Service Plan</th>\n",
       "      <th>Data Usage (MB)</th>\n",
       "      <th>Call Duration (min)</th>\n",
       "      <th>SMS Sent</th>\n",
       "      <th>Internet Package</th>\n",
       "      <th>Transaction Status</th>\n",
       "    </tr>\n",
       "  </thead>\n",
       "  <tbody>\n",
       "    <tr>\n",
       "      <th>1</th>\n",
       "      <td>21ca8795-8ad9-47bc-a16b-e4654697ee52</td>\n",
       "      <td>NaN</td>\n",
       "      <td>2023-10-29 02:48:20</td>\n",
       "      <td>9mobile</td>\n",
       "      <td>Bill Payment</td>\n",
       "      <td>4804.10</td>\n",
       "      <td>39.0</td>\n",
       "      <td>other</td>\n",
       "      <td>Kaduna</td>\n",
       "      <td>Postpaid</td>\n",
       "      <td>3440.00</td>\n",
       "      <td>234.30</td>\n",
       "      <td>13.0</td>\n",
       "      <td>Weekly</td>\n",
       "      <td>Failed</td>\n",
       "    </tr>\n",
       "    <tr>\n",
       "      <th>2</th>\n",
       "      <td>ea6478bf-6a8c-4d91-bd63-b4464ebc5ae0</td>\n",
       "      <td>3052574b-ae63-4e67-8d86-5f8418ef6f66</td>\n",
       "      <td>2024-04-03 02:22:20</td>\n",
       "      <td>9mobile</td>\n",
       "      <td>Bill Payment</td>\n",
       "      <td>19303.03</td>\n",
       "      <td>NaN</td>\n",
       "      <td>male</td>\n",
       "      <td>Kaduna</td>\n",
       "      <td>Prepaid</td>\n",
       "      <td>NaN</td>\n",
       "      <td>0.90</td>\n",
       "      <td>0.0</td>\n",
       "      <td>Weekly</td>\n",
       "      <td>Completed</td>\n",
       "    </tr>\n",
       "    <tr>\n",
       "      <th>3</th>\n",
       "      <td>NaN</td>\n",
       "      <td>15ad55e7-2c9e-4a84-9b9d-9e7d7747a177</td>\n",
       "      <td>2024-02-07 00:22:30</td>\n",
       "      <td>9mobile</td>\n",
       "      <td>Bill Payment</td>\n",
       "      <td>4094.00</td>\n",
       "      <td>NaN</td>\n",
       "      <td>male</td>\n",
       "      <td>Owerri</td>\n",
       "      <td>Prepaid</td>\n",
       "      <td>2250.00</td>\n",
       "      <td>16.38</td>\n",
       "      <td>20.0</td>\n",
       "      <td>Daily</td>\n",
       "      <td>Completed</td>\n",
       "    </tr>\n",
       "    <tr>\n",
       "      <th>4</th>\n",
       "      <td>a1165572-b0f4-42e2-9890-eb16ef0b8741</td>\n",
       "      <td>a4adc3b5-2b36-4ba5-b7d9-1a103bfb247a</td>\n",
       "      <td>2008-10-31 21:12:40</td>\n",
       "      <td>Glo</td>\n",
       "      <td>Data Purchase</td>\n",
       "      <td>NaN</td>\n",
       "      <td>36.0</td>\n",
       "      <td>female</td>\n",
       "      <td>Sokoto</td>\n",
       "      <td>Prepaid</td>\n",
       "      <td>3307.97</td>\n",
       "      <td>92.61</td>\n",
       "      <td>58.0</td>\n",
       "      <td>Weekly</td>\n",
       "      <td>Failed</td>\n",
       "    </tr>\n",
       "    <tr>\n",
       "      <th>7</th>\n",
       "      <td>07c57156-2d68-433b-92c2-8839db514bc0</td>\n",
       "      <td>NaN</td>\n",
       "      <td>NaT</td>\n",
       "      <td>Glo</td>\n",
       "      <td>Data Purchase</td>\n",
       "      <td>4499.60</td>\n",
       "      <td>49.0</td>\n",
       "      <td>male</td>\n",
       "      <td>Ilorin</td>\n",
       "      <td>Prepaid</td>\n",
       "      <td>3706.69</td>\n",
       "      <td>3.42</td>\n",
       "      <td>59.0</td>\n",
       "      <td>Daily</td>\n",
       "      <td>Pending</td>\n",
       "    </tr>\n",
       "  </tbody>\n",
       "</table>\n",
       "</div>"
      ],
      "text/plain": [
       "                         Transaction ID                           Customer ID  \\\n",
       "1  21ca8795-8ad9-47bc-a16b-e4654697ee52                                   NaN   \n",
       "2  ea6478bf-6a8c-4d91-bd63-b4464ebc5ae0  3052574b-ae63-4e67-8d86-5f8418ef6f66   \n",
       "3                                   NaN  15ad55e7-2c9e-4a84-9b9d-9e7d7747a177   \n",
       "4  a1165572-b0f4-42e2-9890-eb16ef0b8741  a4adc3b5-2b36-4ba5-b7d9-1a103bfb247a   \n",
       "7  07c57156-2d68-433b-92c2-8839db514bc0                                   NaN   \n",
       "\n",
       "     Transaction Date Operator Name Transaction Type  Transaction Amount  \\\n",
       "1 2023-10-29 02:48:20       9mobile     Bill Payment             4804.10   \n",
       "2 2024-04-03 02:22:20       9mobile     Bill Payment            19303.03   \n",
       "3 2024-02-07 00:22:30       9mobile     Bill Payment             4094.00   \n",
       "4 2008-10-31 21:12:40           Glo    Data Purchase                 NaN   \n",
       "7                 NaT           Glo    Data Purchase             4499.60   \n",
       "\n",
       "   Customer Age Customer Gender Customer Location Service Plan  \\\n",
       "1          39.0           other            Kaduna     Postpaid   \n",
       "2           NaN            male            Kaduna      Prepaid   \n",
       "3           NaN            male            Owerri      Prepaid   \n",
       "4          36.0          female            Sokoto      Prepaid   \n",
       "7          49.0            male            Ilorin      Prepaid   \n",
       "\n",
       "   Data Usage (MB)  Call Duration (min)  SMS Sent Internet Package  \\\n",
       "1          3440.00               234.30      13.0           Weekly   \n",
       "2              NaN                 0.90       0.0           Weekly   \n",
       "3          2250.00                16.38      20.0            Daily   \n",
       "4          3307.97                92.61      58.0           Weekly   \n",
       "7          3706.69                 3.42      59.0            Daily   \n",
       "\n",
       "  Transaction Status  \n",
       "1             Failed  \n",
       "2          Completed  \n",
       "3          Completed  \n",
       "4             Failed  \n",
       "7            Pending  "
      ]
     },
     "execution_count": 42,
     "metadata": {},
     "output_type": "execute_result"
    }
   ],
   "source": [
    "# Checking the dataframe before saving\n",
    "print(df.info())\n",
    "df.head()\n"
   ]
  },
  {
   "cell_type": "code",
   "execution_count": 43,
   "metadata": {},
   "outputs": [],
   "source": [
    "df.to_csv('../data/interim/1.0-ji-initial-data-cleaned', index=False)"
   ]
  }
 ],
 "metadata": {
  "kernelspec": {
   "display_name": "Python 3",
   "language": "python",
   "name": "python3"
  },
  "language_info": {
   "codemirror_mode": {
    "name": "ipython",
    "version": 3
   },
   "file_extension": ".py",
   "mimetype": "text/x-python",
   "name": "python",
   "nbconvert_exporter": "python",
   "pygments_lexer": "ipython3",
   "version": "3.10.13"
  }
 },
 "nbformat": 4,
 "nbformat_minor": 2
}
